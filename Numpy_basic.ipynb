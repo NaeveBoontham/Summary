{
 "cells": [
  {
   "cell_type": "markdown",
   "id": "2c773db8",
   "metadata": {},
   "source": [
    "# Numpy\n",
    "\n",
    "![Numpy](https://miro.medium.com/v2/resize:fit:765/0*L5DN6kQLvhvvw02U.png)"
   ]
  },
  {
   "cell_type": "code",
   "execution_count": 1,
   "id": "ec0ea341",
   "metadata": {},
   "outputs": [],
   "source": [
    "import numpy as np"
   ]
  },
  {
   "cell_type": "markdown",
   "id": "3f31de7f",
   "metadata": {},
   "source": [
    "# Basics Numpy"
   ]
  },
  {
   "cell_type": "code",
   "execution_count": 2,
   "id": "0ee95fef",
   "metadata": {},
   "outputs": [
    {
     "name": "stdout",
     "output_type": "stream",
     "text": [
      "a =\n",
      " [[1 2 3]\n",
      " [4 5 6]\n",
      " [7 8 9]] \n",
      "\n",
      "b =\n",
      " [[10 11 12]\n",
      " [13 14 15]\n",
      " [16 17 18]\n",
      " [19 20 21]] \n",
      "\n",
      "c =\n",
      " [[[ 1  2  3]\n",
      "  [ 4  5  6]]\n",
      "\n",
      " [[ 7  8  9]\n",
      "  [10 11 12]]] \n",
      "\n",
      "d =\n",
      " [[[10 11 12 13]\n",
      "  [13 14 15  6]\n",
      "  [16 17 18 19]]\n",
      "\n",
      " [[19 20 21 22]\n",
      "  [23 24 25 26]\n",
      "  [27 28 29 30]]] \n",
      "\n",
      "a shape = (3, 3) (RowxColumn)\n",
      "b shape = (4, 3) (RowxColumn)\n",
      "c shape = (2, 2, 3) (SetxRowxColumn)\n",
      "d shape = (2, 3, 4) (SetxRowxColumn) \n",
      "\n",
      "a size = 9 (Row*Column)\n",
      "b size = 12 (Row*Column)\n",
      "c size = 12 (Set*Row*Column)\n",
      "d size = 24 (Set*Row*Column) \n",
      "\n",
      "a datatype = int32\n",
      "b datatype = int32\n",
      "c datatype = int32\n",
      "d datatype = int32 \n",
      "\n",
      "a dimension = 2 D\n",
      "b dimension = 2 D\n",
      "c dimension = 3 D\n",
      "d dimension = 3 D\n"
     ]
    }
   ],
   "source": [
    "a = np.array([[1,2,3], [4,5,6], [7,8,9]])\n",
    "b = np.array([[10,11,12], [13,14,15], [16,17,18], [19,20,21]]) \n",
    "c = np.array([[[1,2,3],[4,5,6]],[[7,8,9],[10,11,12]]])\n",
    "d = np.array([[[10,11,12,13],[13,14,15,6],[16,17,18,19]],[[19,20,21,22],[23,24,25,26],[27,28,29,30]]])\n",
    "print(\"a =\\n\", a, \"\\n\")\n",
    "print(\"b =\\n\", b, \"\\n\")\n",
    "print(\"c =\\n\", c, \"\\n\")\n",
    "print(\"d =\\n\", d, \"\\n\")\n",
    "print(\"a shape =\", a.shape, \"(RowxColumn)\")\n",
    "print(\"b shape =\", b.shape, \"(RowxColumn)\")\n",
    "print(\"c shape =\", c.shape, \"(SetxRowxColumn)\")\n",
    "print(\"d shape =\", d.shape, \"(SetxRowxColumn)\", \"\\n\")\n",
    "print(\"a size =\", a.size, \"(Row*Column)\")\n",
    "print(\"b size =\", b.size, \"(Row*Column)\")\n",
    "print(\"c size =\", c.size, \"(Set*Row*Column)\")\n",
    "print(\"d size =\", d.size, \"(Set*Row*Column)\", \"\\n\")\n",
    "print(\"a datatype =\", a.dtype)\n",
    "print(\"b datatype =\", b.dtype)\n",
    "print(\"c datatype =\", c.dtype)\n",
    "print(\"d datatype =\", d.dtype, \"\\n\" )\n",
    "print(\"a dimension =\", a.ndim, \"D\")\n",
    "print(\"b dimension =\", b.ndim, \"D\")\n",
    "print(\"c dimension =\", c.ndim, \"D\")\n",
    "print(\"d dimension =\", d.ndim, \"D\")\n"
   ]
  },
  {
   "cell_type": "markdown",
   "id": "41960407",
   "metadata": {},
   "source": [
    "# NumpyArray VS List"
   ]
  },
  {
   "cell_type": "code",
   "execution_count": 3,
   "id": "5dbc3645",
   "metadata": {},
   "outputs": [
    {
     "name": "stdout",
     "output_type": "stream",
     "text": [
      "List = [1, 2, 3, 4]\n",
      "NpArray = [1 2 3 4] \n",
      "\n",
      "+5\n",
      "\n",
      "List = [1, 2, 3, 4, 5] (This one add the number 5 to member of the list)\n",
      "NpArray = [6 7 8 9] (This one add 5 to every member in the array)\n",
      "\n",
      "*2\n",
      "\n",
      "List = [1, 2, 3, 4, 5, 1, 2, 3, 4, 5] (This one repeat the list)\n",
      "NpArray = [12 14 16 18] (This one multiply 2 to every member in the array)\n",
      "\n"
     ]
    }
   ],
   "source": [
    "List = [1,2,3,4]\n",
    "NpArray = np.array([1,2,3,4])\n",
    "\n",
    "print(\"List =\", List)\n",
    "print(\"NpArray =\", NpArray, \"\\n\")\n",
    "print(\"+5\\n\")\n",
    "\n",
    "List = List + [5]\n",
    "NpArray = NpArray + [5]\n",
    "\n",
    "print(\"List =\", List, \"(This one add the number 5 to member of the list)\")\n",
    "print(\"NpArray =\", NpArray, \"(This one add 5 to every member in the array)\\n\")\n",
    "print(\"*2\\n\")\n",
    "\n",
    "List = List*2\n",
    "NpArray = NpArray*2\n",
    "\n",
    "print(\"List =\", List, \"(This one repeat the list)\")\n",
    "print(\"NpArray =\", NpArray, \"(This one multiply 2 to every member in the array)\\n\")"
   ]
  },
  {
   "cell_type": "markdown",
   "id": "51c53ef9",
   "metadata": {},
   "source": [
    "# Dot product NumpyArray VS List"
   ]
  },
  {
   "cell_type": "code",
   "execution_count": 4,
   "id": "6a84770e",
   "metadata": {},
   "outputs": [
    {
     "name": "stdout",
     "output_type": "stream",
     "text": [
      "list1 = [1, 2, 3]\n",
      "list2 = [4, 5, 6]\n",
      "dot_list = 32 (use for loop)\n",
      "\n",
      "array1 = [1 2 3]\n",
      "array2 = [4 5 6]\n",
      "dot_array = 32 (use np.dot function)\n",
      "\n",
      "dot_array2 = 32 (element wise multiply and sum)\n",
      "\n",
      "dot_array3 = 32 (use @ to dot product)\n"
     ]
    }
   ],
   "source": [
    "list1 = [1,2,3]\n",
    "list2 = [4,5,6]\n",
    "\n",
    "print(\"list1 =\", list1)\n",
    "print(\"list2 =\", list2)\n",
    "\n",
    "dot_list = 0\n",
    "\n",
    "for i in range(len(list1)):\n",
    "    dot_list = dot_list + list1[i]*list2[i]\n",
    "print(\"dot_list =\", dot_list, \"(use for loop)\\n\")\n",
    "\n",
    "a = np.array([1,2,3])\n",
    "b = np.array([4,5,6])\n",
    "\n",
    "print(\"array1 =\", a)\n",
    "print(\"array2 =\", b)\n",
    "\n",
    "dot_array = np.dot(a,b)\n",
    "print(\"dot_array =\", dot_array, \"(use np.dot function)\\n\")\n",
    "\n",
    "# another way to do dot in numpy array\n",
    "\n",
    "dot_array2 = a*b\n",
    "dot_array2 = np.sum(dot_array2)\n",
    "print(\"dot_array2 =\", dot_array2, \"(element wise multiply and sum)\\n\")\n",
    "\n",
    "# or\n",
    "\n",
    "print(\"dot_array3 =\", a@b, \"(use @ to dot product)\")"
   ]
  },
  {
   "cell_type": "markdown",
   "id": "eddd9b2a",
   "metadata": {},
   "source": [
    "# Indexing, Slicing, Boolean Indexing"
   ]
  },
  {
   "cell_type": "markdown",
   "id": "04d380a4",
   "metadata": {},
   "source": [
    "1 Dimension"
   ]
  },
  {
   "cell_type": "code",
   "execution_count": 5,
   "id": "0eff47b6",
   "metadata": {},
   "outputs": [
    {
     "name": "stdout",
     "output_type": "stream",
     "text": [
      "a = [1 2 3 4 5] \n",
      "\n",
      "a[0] =  1\n",
      "a[1] = 2\n",
      "a[2] = 3\n",
      "a[3] = 4\n",
      "a[4] = 5 \n",
      "\n",
      " *** Index starting from 0 ***\n"
     ]
    }
   ],
   "source": [
    "a = np.array([1,2,3,4,5])\n",
    "print(\"a =\", a, \"\\n\")\n",
    "\n",
    "print(\"a[0] = \", a[0])\n",
    "print(\"a[1] =\", a[1])\n",
    "print(\"a[2] =\", a[2])\n",
    "print(\"a[3] =\", a[3])\n",
    "print(\"a[4] =\", a[4], \"\\n\\n *** Index starting from 0 ***\")"
   ]
  },
  {
   "cell_type": "markdown",
   "id": "d79cf4f1",
   "metadata": {},
   "source": [
    "2 Dimension"
   ]
  },
  {
   "cell_type": "code",
   "execution_count": 6,
   "id": "f70c254c",
   "metadata": {},
   "outputs": [
    {
     "name": "stdout",
     "output_type": "stream",
     "text": [
      "b =\n",
      " [[ 1  2  3  4]\n",
      " [ 5  6  7  8]\n",
      " [ 9 10 11 12]] \n",
      "\n",
      "b[0] = [1 2 3 4] \n",
      "b[1] = [5 6 7 8] \n",
      "b[2] = [ 9 10 11 12] \n",
      "\n",
      "or\n",
      "\n",
      "b[0,:] = [1 2 3 4] \n",
      "b[1,:] = [5 6 7 8] \n",
      "b[2,:] = [ 9 10 11 12]\n",
      "\n",
      "first number in the [] is Row and after , is Column\n",
      ": mean choose all\n"
     ]
    }
   ],
   "source": [
    "b = np.array([[1,2,3,4],[5,6,7,8],[9,10,11,12]])\n",
    "print(\"b =\\n\", b, \"\\n\")\n",
    "\n",
    "print(\"b[0] =\", b[0], \"\\nb[1] =\", b[1], \"\\nb[2] =\", b[2], \"\\n\")\n",
    "print(\"or\\n\")\n",
    "print(\"b[0,:] =\", b[0,:], \"\\nb[1,:] =\", b[1,:], \"\\nb[2,:] =\", b[2,:])\n",
    "print(\"\\nfirst number in the [] is Row and after , is Column\\n: mean choose all\")\n"
   ]
  },
  {
   "cell_type": "code",
   "execution_count": 7,
   "id": "247bd10d",
   "metadata": {},
   "outputs": [
    {
     "name": "stdout",
     "output_type": "stream",
     "text": [
      "b =\n",
      " [[ 1  2  3  4]\n",
      " [ 5  6  7  8]\n",
      " [ 9 10 11 12]] \n",
      "\n",
      "b[:,0] = [1 5 9] \n",
      "b[:,1] = [ 2  6 10] \n",
      "b[:,2] = [ 3  7 11] \n",
      "\n",
      "b[0,0] = 1\n",
      "b[2,1] = 10\n",
      "b[1,3] = 8\n",
      "\n",
      "first number in the [] is Row and after , is Column\n",
      ": mean choose all\n"
     ]
    }
   ],
   "source": [
    "print(\"b =\\n\", b, \"\\n\")\n",
    "\n",
    "print(\"b[:,0] =\", b[:,0], \"\\nb[:,1] =\", b[:,1], \"\\nb[:,2] =\", b[:,2], \"\\n\")\n",
    "print(\"b[0,0] =\", b[0,0])\n",
    "print(\"b[2,1] =\", b[2,1])\n",
    "print(\"b[1,3] =\", b[1,3])\n",
    "print(\"\\nfirst number in the [] is Row and after , is Column\\n: mean choose all\")"
   ]
  },
  {
   "cell_type": "code",
   "execution_count": 8,
   "id": "bb646db7",
   "metadata": {},
   "outputs": [
    {
     "name": "stdout",
     "output_type": "stream",
     "text": [
      "indexing by - mean count from behind\n",
      "\n",
      "b =\n",
      " [[ 1  2  3  4]\n",
      " [ 5  6  7  8]\n",
      " [ 9 10 11 12]] \n",
      "\n",
      "b[-1,-2] = 11\n",
      "b[-2,-1] = 8\n",
      "b[-1,-1] = 12\n",
      "b[-3,-4] = 1\n",
      "\n",
      "*** Indexing of - will start from -1 not 0 ***\n"
     ]
    }
   ],
   "source": [
    "print(\"indexing by - mean count from behind\\n\")\n",
    "print(\"b =\\n\", b, \"\\n\")\n",
    "\n",
    "print(\"b[-1,-2] =\", b[-1,-2])\n",
    "print(\"b[-2,-1] =\", b[-2,-1])\n",
    "print(\"b[-1,-1] =\", b[-1,-1])\n",
    "print(\"b[-3,-4] =\", b[-3,-4])\n",
    "\n",
    "print(\"\\n*** Indexing of - will start from -1 not 0 ***\")"
   ]
  },
  {
   "cell_type": "markdown",
   "id": "49e5f79f",
   "metadata": {},
   "source": [
    "Slicing \n",
    "\n",
    "[Row:Column:Step]"
   ]
  },
  {
   "cell_type": "code",
   "execution_count": 9,
   "id": "7e88402b",
   "metadata": {},
   "outputs": [
    {
     "name": "stdout",
     "output_type": "stream",
     "text": [
      "b =\n",
      " [[ 1  2  3  4]\n",
      " [ 5  6  7  8]\n",
      " [ 9 10 11 12]] \n",
      "\n",
      "b Row1-2,Column1-3 =\n",
      " [[1 2 3]\n",
      " [5 6 7]] \n",
      "\n",
      "b Row2-3,Column2-4 =\n",
      " [[ 6  7  8]\n",
      " [10 11 12]] \n",
      "\n",
      "b Row2-3,Column2-4 =\n",
      " [[ 6  7  8]\n",
      " [10 11 12]]\n"
     ]
    }
   ],
   "source": [
    "print(\"b =\\n\", b, \"\\n\")\n",
    "\n",
    "print(\"b Row1-2,Column1-3 =\\n\", b[0:2,0:3], \"\\n\")\n",
    "print(\"b Row2-3,Column2-4 =\\n\", b[1:3,1:4], \"\\n\")\n",
    "# or\n",
    "print(\"b Row2-3,Column2-4 =\\n\", b[1:,1:])"
   ]
  },
  {
   "cell_type": "markdown",
   "id": "765ad96b",
   "metadata": {},
   "source": [
    "### Boolean Indexing"
   ]
  },
  {
   "cell_type": "code",
   "execution_count": 15,
   "id": "fd38e8b0",
   "metadata": {},
   "outputs": [
    {
     "name": "stdout",
     "output_type": "stream",
     "text": [
      "b =\n",
      " [ 2  4  6  8 10 12] \n",
      "\n",
      "b > 5 =\n",
      " [False False  True  True  True  True] \n",
      "\n",
      "b <= 5 =\n",
      " [ True  True False False False False]\n",
      "\n",
      "now will print the element\n",
      "\n",
      "b <= 5 =\n",
      " [2 4] \n",
      "\n",
      "b <= 5 =\n",
      " [2 4] \n",
      "\n",
      "b <= 5 =\n",
      " [ 2  4 -1 -1 -1 -1]\n"
     ]
    }
   ],
   "source": [
    "print(\"b =\\n\", b, \"\\n\")\n",
    "\n",
    "boolean = b > 5\n",
    "print(\"b > 5 =\\n\", boolean, \"\\n\")\n",
    "\n",
    "boolean = b <= 5\n",
    "print(\"b <= 5 =\\n\", boolean)\n",
    "\n",
    "print(\"\\nnow will print the element\\n\")\n",
    "\n",
    "print(\"b <= 5 =\\n\", b[boolean], \"\\n\")\n",
    "\n",
    "# or\n",
    "\n",
    "print(\"b <= 5 =\\n\", b[b <= 5], \"\\n\")\n",
    "\n",
    "# as you see it not the same size so you can do this\n",
    "\n",
    "b = np.where(b <= 5, b, -1)\n",
    "print(\"b <= 5 =\\n\", b)\n",
    "\n",
    "#which one is flase from condition it will return -1"
   ]
  },
  {
   "cell_type": "code",
   "execution_count": 11,
   "id": "f6d3b433",
   "metadata": {},
   "outputs": [
    {
     "name": "stdout",
     "output_type": "stream",
     "text": [
      "b =\n",
      " [[ 1  2  3  4]\n",
      " [ 5  6  7  8]\n",
      " [ 9 10 11 12]] \n",
      "\n",
      "b_flatten = [ 1  2  3  4  5  6  7  8  9 10 11 12] \n",
      "\n",
      "even =\n",
      " [[ 1]\n",
      " [ 3]\n",
      " [ 5]\n",
      " [ 7]\n",
      " [ 9]\n",
      " [11]] \n",
      "\n",
      "even_flatten = [ 1  3  5  7  9 11] \n",
      "\n",
      "even_b = [ 2  4  6  8 10 12]\n"
     ]
    }
   ],
   "source": [
    "b = np.array([[1,2,3,4],[5,6,7,8],[9,10,11,12]])\n",
    "print(\"b =\\n\", b, \"\\n\")\n",
    "\n",
    "#flatten() is use to made matrix to 1 D\n",
    "\n",
    "b = b.flatten()\n",
    "print(\"b_flatten =\", b, \"\\n\")\n",
    "\n",
    "even = np.argwhere(b % 2 == 0)\n",
    "print(\"even =\\n\", even, \"\\n\")\n",
    "\n",
    "even = even.flatten()\n",
    "print(\"even_flatten =\",even, \"\\n\")\n",
    "\n",
    "b = b[even]\n",
    "print(\"even_b =\", b)\n",
    "\n",
    "#this call fancy indexing pass an index you want to print to [] of array"
   ]
  },
  {
   "cell_type": "markdown",
   "id": "5d3d9d63",
   "metadata": {},
   "source": [
    "### Reshaping"
   ]
  },
  {
   "cell_type": "code",
   "execution_count": 12,
   "id": "a1690e68",
   "metadata": {},
   "outputs": [
    {
     "name": "stdout",
     "output_type": "stream",
     "text": [
      "c =\n",
      " [[20 19 18 17]\n",
      " [16 15 14 13]\n",
      " [12 11 10  9]]\n",
      "\n",
      "c shape = (3, 4) \n",
      "\n",
      "c_reshape =\n",
      " [[20 19 18 17 16 15]\n",
      " [14 13 12 11 10  9]] \n",
      "\n",
      "c_reshape2 =\n",
      " [[20]\n",
      " [19]\n",
      " [18]\n",
      " [17]\n",
      " [16]\n",
      " [15]\n",
      " [14]\n",
      " [13]\n",
      " [12]\n",
      " [11]\n",
      " [10]\n",
      " [ 9]] \n",
      "\n",
      "c_reshape3 =\n",
      " [[20 19 18]\n",
      " [17 16 15]\n",
      " [14 13 12]\n",
      " [11 10  9]] \n",
      "\n"
     ]
    },
    {
     "ename": "ValueError",
     "evalue": "cannot reshape array of size 12 into shape (5,2)",
     "output_type": "error",
     "traceback": [
      "\u001b[1;31m---------------------------------------------------------------------------\u001b[0m",
      "\u001b[1;31mValueError\u001b[0m                                Traceback (most recent call last)",
      "Cell \u001b[1;32mIn[12], line 16\u001b[0m\n\u001b[0;32m     13\u001b[0m c \u001b[38;5;241m=\u001b[39m c\u001b[38;5;241m.\u001b[39mreshape(\u001b[38;5;241m4\u001b[39m,\u001b[38;5;241m3\u001b[39m)\n\u001b[0;32m     14\u001b[0m \u001b[38;5;28mprint\u001b[39m(\u001b[38;5;124m\"\u001b[39m\u001b[38;5;124mc_reshape3 =\u001b[39m\u001b[38;5;130;01m\\n\u001b[39;00m\u001b[38;5;124m\"\u001b[39m, c, \u001b[38;5;124m\"\u001b[39m\u001b[38;5;130;01m\\n\u001b[39;00m\u001b[38;5;124m\"\u001b[39m)\n\u001b[1;32m---> 16\u001b[0m c \u001b[38;5;241m=\u001b[39m c\u001b[38;5;241m.\u001b[39mreshape(\u001b[38;5;241m5\u001b[39m,\u001b[38;5;241m2\u001b[39m)\n\u001b[0;32m     17\u001b[0m \u001b[38;5;28mprint\u001b[39m(\u001b[38;5;124m\"\u001b[39m\u001b[38;5;124mc_reshape4 =\u001b[39m\u001b[38;5;130;01m\\n\u001b[39;00m\u001b[38;5;124m\"\u001b[39m, c)\n",
      "\u001b[1;31mValueError\u001b[0m: cannot reshape array of size 12 into shape (5,2)"
     ]
    }
   ],
   "source": [
    "c = np.array([[20,19,18,17],[16,15,14,13],[12,11,10,9]])\n",
    "print(\"c =\\n\", c)\n",
    "print(\"\\nc shape =\", c.shape, \"\\n\")\n",
    "\n",
    "#reshaping\n",
    "\n",
    "c = c.reshape(2,6)\n",
    "print(\"c_reshape =\\n\", c, \"\\n\")\n",
    "\n",
    "c = c.reshape(12,1)\n",
    "print(\"c_reshape2 =\\n\", c, \"\\n\")\n",
    "\n",
    "c = c.reshape(4,3)\n",
    "print(\"c_reshape3 =\\n\", c, \"\\n\")\n",
    "\n",
    "c = c.reshape(5,2)\n",
    "print(\"c_reshape4 =\\n\", c)\n",
    "#this one error because matrix size didn't match the old one the old one have 12 this one have 10"
   ]
  },
  {
   "cell_type": "markdown",
   "id": "85444445",
   "metadata": {},
   "source": [
    "### Random"
   ]
  },
  {
   "cell_type": "code",
   "execution_count": 37,
   "id": "31d89c47",
   "metadata": {},
   "outputs": [
    {
     "name": "stdout",
     "output_type": "stream",
     "text": [
      "random0_1 = \n",
      "[[0.66328329 0.27190304]\n",
      " [0.28200101 0.47804655]\n",
      " [0.26635262 0.33341266]]\n",
      "\n",
      "random_gauss = \n",
      "[ 0.29839852  1.32041866 -0.17734266 -0.90325355  1.75295393  0.28577295\n",
      "  0.62743082  0.25556782 -0.0082521  -1.52275944]\n",
      "\n",
      "random_int = \n",
      "[[7 1 8 3]\n",
      " [3 9 6 5]\n",
      " [2 5 2 1]]\n",
      "\n",
      "random_choice = \n",
      "[[20  5 15]\n",
      " [10  5 20]\n",
      " [20 10  5]\n",
      " [ 5 20 10]]\n",
      "\n",
      "random_normal = \n",
      "[12.0917113  16.32651805 13.22190377 19.50899562 18.37898814  8.82646764\n",
      " 24.68215001 19.60124271 22.14632588 19.66958764 23.03835879 25.72292184\n",
      " 19.88626397 14.61437536 14.78519913 13.17474445 15.54453085 17.45666765\n",
      " 14.74553332 16.76138932]\n",
      "\n",
      "mean = 17.509193772495742\n",
      "std = 4.252100428563955\n"
     ]
    }
   ],
   "source": [
    "# Random from 0-1\n",
    "random0_1 = np.random.random((3, 2))\n",
    "\n",
    "# Random Gaussian Distribution mean = 0, std = 1\n",
    "random_gauss = np.random.randn(10)\n",
    "\n",
    "# Random Integer \n",
    "random_int = np.random.randint(0, 10, size = (3,4))\n",
    "\n",
    "# Random Choice\n",
    "random_choice = np.random.choice([5,10,15,20], size = (4,3))\n",
    "\n",
    "# Random Normal Distribution\n",
    "random_normal = np.random.normal(loc = 18, scale = 4, size = 20)\n",
    "\n",
    "print(f'random0_1 = \\n{random0_1}\\n')\n",
    "\n",
    "print(f'random_gauss = \\n{random_gauss}\\n')\n",
    "\n",
    "print(f'random_int = \\n{random_int}\\n')\n",
    "\n",
    "print(f'random_choice = \\n{random_choice}\\n')\n",
    "\n",
    "print(f'random_normal = \\n{random_normal}')\n",
    "print(f'\\nmean = {random_normal.mean()}\\nstd = {random_normal.std()}')"
   ]
  }
 ],
 "metadata": {
  "kernelspec": {
   "display_name": "Python 3 (ipykernel)",
   "language": "python",
   "name": "python3"
  },
  "language_info": {
   "codemirror_mode": {
    "name": "ipython",
    "version": 3
   },
   "file_extension": ".py",
   "mimetype": "text/x-python",
   "name": "python",
   "nbconvert_exporter": "python",
   "pygments_lexer": "ipython3",
   "version": "3.11.5"
  }
 },
 "nbformat": 4,
 "nbformat_minor": 5
}
