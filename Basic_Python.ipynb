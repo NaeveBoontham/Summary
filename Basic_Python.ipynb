{
 "cells": [
  {
   "cell_type": "markdown",
   "id": "0737161a",
   "metadata": {},
   "source": [
    "<br></br>\n",
    "<span style = \"color: green; font-family: courier new; font-size: 80px\">**Document**</span>\n",
    "\n",
    "\n",
    "---"
   ]
  },
  {
   "cell_type": "markdown",
   "id": "c603ee1b",
   "metadata": {},
   "source": [
    "## <font color = \"red\">Data Type</font>\n",
    "\n",
    "- **None**\n",
    "- **Numeric**\n",
    "    - int\n",
    "    - float\n",
    "    - complex\n",
    "    - bool\n",
    "- **Sequence**\n",
    "    - list\n",
    "        - indexing\n",
    "        - .append()\n",
    "        - .insert()\n",
    "        - .count()\n",
    "        - .index()\n",
    "        - .sort()\n",
    "        - .reverse()\n",
    "        - .pop()\n",
    "        - .remove()\n",
    "        - .extend()\n",
    "        - .clear()\n",
    "    - tuple\n",
    "    - set\n",
    "        - .add()\n",
    "        - .difference()\n",
    "        - .intersection()\n",
    "        - .issubset()\n",
    "        - .union()\n",
    "    - string\n",
    "        - .strip()\n",
    "        - .lower()\n",
    "        - .upper()\n",
    "        - .title()\n",
    "        - .swapcase()\n",
    "        - .split()\n",
    "        - .find()\n",
    "        - .count()\n",
    "        - .replace()\n",
    "- **range**\n",
    "- **Dictionary**  \n",
    "\n",
    "---\n",
    "## <font color = \"red\">Operator</font>  \n",
    "\n",
    "- **Math Operator**\n",
    "    - **+**  (Plus)\n",
    "    - **-**  (Minus)\n",
    "    - __*__  (Multiply)\n",
    "    - **/**  (Divide)\n",
    "    - __**__  (Power)\n",
    "    - **//**  (Integer Divide)\n",
    "    - **%**  (Modulator)\n",
    "    \n",
    "- **Logical Operator**\n",
    "    - **&**  (And)\n",
    "    - **|**  (Or)\n",
    "    - **not**\n",
    "    - **Comparison**\n",
    "        - **>** (More than)\n",
    "        - **<** (Less than)\n",
    "        - **==** (Equal to)\n",
    "        - **!=** (Not equal to)\n",
    "        - **>=** (More than or Equal to)\n",
    "        - **<=** (Less than or Equal to)\n",
    "    \n",
    "---\n",
    "## <font color = \"red\">If Else</font>\n",
    "\n",
    "- **if**\n",
    "- **else**\n",
    "- **elif**\n",
    "\n",
    "---\n",
    "## <font color = \"red\">Loop</font>\n",
    "\n",
    "- **for loop**\n",
    "    - continue\n",
    "    - break\n",
    "- **while loop**\n",
    "- **list comprehension**\n",
    "    - no condition\n",
    "    - have condition\n",
    "---\n",
    "## <font color = \"red\">Function</font>\n",
    "- **Normal function**\n",
    "    - return\n",
    "- **map**\n",
    "- **reduce**\n",
    "- **filter**\n",
    "- **lambda function**"
   ]
  },
  {
   "cell_type": "markdown",
   "id": "10445856",
   "metadata": {},
   "source": [
    "![python](https://learnersgalaxy.ai/wp-content/uploads/2024/01/Python-Symbol.png)"
   ]
  },
  {
   "cell_type": "markdown",
   "id": "c4c7472b",
   "metadata": {},
   "source": [
    "---\n",
    "---\n",
    "<br></br>\n",
    "<span style = \"color: red; font-size: 50px\">**Data Type**</font>  \n",
    "- **None**\n",
    "- **Numeric**\n",
    "    - int\n",
    "    - float\n",
    "    - complex\n",
    "    - bool\n",
    "- **Sequence**\n",
    "    - list \n",
    "    - tuple\n",
    "    - set\n",
    "    - string\n",
    "    - range\n",
    "- **Dictionary**  "
   ]
  },
  {
   "cell_type": "markdown",
   "id": "203a8881",
   "metadata": {},
   "source": [
    "---\n",
    "<span style = \"color: blue; font-size: 30px\">**None**</span>  \n",
    "\n",
    "---"
   ]
  },
  {
   "cell_type": "code",
   "execution_count": 1,
   "id": "480654d0",
   "metadata": {},
   "outputs": [
    {
     "name": "stdout",
     "output_type": "stream",
     "text": [
      "None\n",
      "<class 'NoneType'>\n"
     ]
    }
   ],
   "source": [
    "# Set X equal to None datat type\n",
    "x = None\n",
    "\n",
    "print(x)\n",
    "print(type(x))"
   ]
  },
  {
   "cell_type": "markdown",
   "id": "6bf1175b",
   "metadata": {},
   "source": [
    "---\n",
    "<span style = \"color: blue; font-size: 30px\">**Numeric**</span>\n",
    "\n",
    "**Numeric is a number data type**\n",
    "- int\n",
    "- float\n",
    "- complex\n",
    "- bool\n",
    "---"
   ]
  },
  {
   "cell_type": "markdown",
   "id": "9d10e174",
   "metadata": {},
   "source": [
    "### <font color = 'cornflowerblue'>int (Integer)</font>"
   ]
  },
  {
   "cell_type": "code",
   "execution_count": 2,
   "id": "b99ffaeb",
   "metadata": {},
   "outputs": [
    {
     "name": "stdout",
     "output_type": "stream",
     "text": [
      "8\n",
      "<class 'int'>\n"
     ]
    }
   ],
   "source": [
    "# Set x equal to some integer \n",
    "x = 8\n",
    "\n",
    "print(x)\n",
    "print(type(x))"
   ]
  },
  {
   "cell_type": "code",
   "execution_count": 3,
   "id": "44f2ecbc",
   "metadata": {},
   "outputs": [
    {
     "data": {
      "text/plain": [
       "8"
      ]
     },
     "execution_count": 3,
     "metadata": {},
     "output_type": "execute_result"
    }
   ],
   "source": [
    "# You can also convert float type variable into int using int()\n",
    "# It will floor the number\n",
    "\n",
    "# Change 8.63 into int\n",
    "int(8.63)"
   ]
  },
  {
   "cell_type": "markdown",
   "id": "13141763",
   "metadata": {},
   "source": [
    "---\n",
    "### <font color = 'cornflowerblue'>float (Decimal)</font>"
   ]
  },
  {
   "cell_type": "code",
   "execution_count": 4,
   "id": "f2d56fca",
   "metadata": {},
   "outputs": [
    {
     "name": "stdout",
     "output_type": "stream",
     "text": [
      "11.234\n",
      "<class 'float'>\n"
     ]
    }
   ],
   "source": [
    "# Set x equal to some decimal \n",
    "x = 11.234\n",
    "\n",
    "print(x)\n",
    "print(type(x))"
   ]
  },
  {
   "cell_type": "code",
   "execution_count": 5,
   "id": "acd321df",
   "metadata": {},
   "outputs": [
    {
     "data": {
      "text/plain": [
       "15.0"
      ]
     },
     "execution_count": 5,
     "metadata": {},
     "output_type": "execute_result"
    }
   ],
   "source": [
    "# You can also convert int type variable into float using float()\n",
    "\n",
    "# Change 15 into float\n",
    "float(15)"
   ]
  },
  {
   "cell_type": "markdown",
   "id": "e90be601",
   "metadata": {},
   "source": [
    "---\n",
    "### <font color = 'cornflowerblue'>complex</font>"
   ]
  },
  {
   "cell_type": "code",
   "execution_count": 6,
   "id": "ee5e228d",
   "metadata": {},
   "outputs": [
    {
     "name": "stdout",
     "output_type": "stream",
     "text": [
      "(7+3j)\n",
      "<class 'complex'>\n"
     ]
    }
   ],
   "source": [
    "# Set x equal to some complex number\n",
    "x = 7 + 3j\n",
    "\n",
    "print(x)\n",
    "print(type(x))"
   ]
  },
  {
   "cell_type": "code",
   "execution_count": 7,
   "id": "1ff9148e",
   "metadata": {},
   "outputs": [
    {
     "data": {
      "text/plain": [
       "(14+6j)"
      ]
     },
     "execution_count": 7,
     "metadata": {},
     "output_type": "execute_result"
    }
   ],
   "source": [
    "# You can also create complex variable using complex()\n",
    "complex(14,6)"
   ]
  },
  {
   "cell_type": "markdown",
   "id": "69e1f82e",
   "metadata": {},
   "source": [
    "---\n",
    "### <font color = 'cornflowerblue'>bool (Boolean)</font>"
   ]
  },
  {
   "cell_type": "code",
   "execution_count": 8,
   "id": "70f4e020",
   "metadata": {},
   "outputs": [
    {
     "name": "stdout",
     "output_type": "stream",
     "text": [
      "True\n",
      "<class 'bool'> \n",
      "\n",
      "False\n",
      "<class 'bool'>\n"
     ]
    }
   ],
   "source": [
    "# Set x and y equal to boolean \n",
    "x = True\n",
    "y = False\n",
    "\n",
    "print(x)\n",
    "print(type(x), \"\\n\")\n",
    "print(y)\n",
    "print(type(y))"
   ]
  },
  {
   "cell_type": "code",
   "execution_count": 9,
   "id": "da1e1f3f",
   "metadata": {},
   "outputs": [
    {
     "name": "stdout",
     "output_type": "stream",
     "text": [
      "Before convert x = True\n",
      "After convert x = 1 \n",
      "\n",
      "Before convert y = False\n",
      "After convert y = 0.0\n"
     ]
    }
   ],
   "source": [
    "# You can also convert True, False into number 1 and 0 using int() or float()\n",
    "\n",
    "# Convert x to number using int()\n",
    "print(f'Before convert x = {x}')\n",
    "print(f'After convert x = {int(x)} \\n')\n",
    "\n",
    "# Convert y to number using float()\n",
    "print(f'Before convert y = {y}')\n",
    "print(f'After convert y = {float(y)}')"
   ]
  },
  {
   "cell_type": "markdown",
   "id": "2e365995",
   "metadata": {},
   "source": [
    "---\n",
    "<span style = \"color: blue; font-size: 30px\">**Sequence**</span>\n",
    "- **list**\n",
    "    - indexing\n",
    "    - .append()\n",
    "    - .insert()\n",
    "    - .count()\n",
    "    - .index()\n",
    "    - .sort()\n",
    "    - .reverse()\n",
    "    - .pop()\n",
    "    - .remove()\n",
    "    - .extend()\n",
    "    - .clear()\n",
    "- **tuple**\n",
    "- **set**\n",
    "    - .add()\n",
    "    - .difference()\n",
    "    - .intersection()\n",
    "    - .issubset()\n",
    "    - .union()\n",
    "- **string**\n",
    "    - .strip()\n",
    "    - .lower()\n",
    "    - .upper()\n",
    "    - .title()\n",
    "    - .swapcase()\n",
    "    - .split()\n",
    "    - .find()\n",
    "    - .count()\n",
    "    - .replace()\n",
    "- **range**\n",
    "---"
   ]
  },
  {
   "cell_type": "markdown",
   "id": "96314903",
   "metadata": {},
   "source": [
    "### <font color = 'cornflowerblue'>list</font>"
   ]
  },
  {
   "cell_type": "code",
   "execution_count": 10,
   "id": "2dccf902",
   "metadata": {},
   "outputs": [
    {
     "name": "stdout",
     "output_type": "stream",
     "text": [
      "[1, 3, 5, 7, 9, 11, 13, 15, 17]\n",
      "<class 'list'>\n"
     ]
    }
   ],
   "source": [
    "# Create a number list using []\n",
    "num_list = [1,3,5,7,9,11,13,15,17]\n",
    "\n",
    "print(num_list)\n",
    "print(type(num_list))"
   ]
  },
  {
   "cell_type": "code",
   "execution_count": 11,
   "id": "d529db27",
   "metadata": {},
   "outputs": [
    {
     "name": "stdout",
     "output_type": "stream",
     "text": [
      "['John', 'Sam', 'Buggy', 'Wanji', 'Loro']\n",
      "<class 'list'>\n"
     ]
    }
   ],
   "source": [
    "# Create a string list using []\n",
    "str_list = [\"John\", \"Sam\", \"Buggy\", \"Wanji\", \"Loro\"]\n",
    "\n",
    "print(str_list)\n",
    "print(type(str_list))"
   ]
  },
  {
   "cell_type": "code",
   "execution_count": 12,
   "id": "7d6d51fe",
   "metadata": {},
   "outputs": [
    {
     "name": "stdout",
     "output_type": "stream",
     "text": [
      "[1, 2, 3, 'one', 'two', 'three', [1, 2, 3]]\n",
      "<class 'list'>\n"
     ]
    }
   ],
   "source": [
    "# Actually we can combine anything in list\n",
    "# Combine number string and list in list\n",
    "com_list = [1,2,3,\"one\",\"two\",\"three\",[1,2,3]]\n",
    "\n",
    "print(com_list)\n",
    "print(type(com_list))"
   ]
  },
  {
   "cell_type": "markdown",
   "id": "c5d967c7",
   "metadata": {},
   "source": [
    "**<u>Indexing<U>**  "
   ]
  },
  {
   "cell_type": "code",
   "execution_count": 13,
   "id": "27ae84cf",
   "metadata": {},
   "outputs": [
    {
     "name": "stdout",
     "output_type": "stream",
     "text": [
      "[1, 2, 3, 4, 5, 6, 7, 8, 9, 10, 11, 12, 13, 14, 15, 16, 17, 18, 19, 20]\n"
     ]
    }
   ],
   "source": [
    "# Create a list\n",
    "list = [1,2,3,4,5,6,7,8,9,10,11,12,13,14,15,16,17,18,19,20]\n",
    "\n",
    "print(list)"
   ]
  },
  {
   "cell_type": "code",
   "execution_count": 14,
   "id": "80b30a63",
   "metadata": {},
   "outputs": [
    {
     "data": {
      "text/plain": [
       "[1, 2, 3, 4, 5, 6, 7, 8]"
      ]
     },
     "execution_count": 14,
     "metadata": {},
     "output_type": "execute_result"
    }
   ],
   "source": [
    "# index in list start at 0\n",
    "# list_name[start:stop:step]\n",
    "# start is include stop is exclude\n",
    "\n",
    "# Use indexing to select 0 to 7 element\n",
    "list[0:8]"
   ]
  },
  {
   "cell_type": "code",
   "execution_count": 15,
   "id": "8cce5909",
   "metadata": {},
   "outputs": [
    {
     "data": {
      "text/plain": [
       "[1, 3, 5, 7, 9, 11, 13, 15, 17]"
      ]
     },
     "execution_count": 15,
     "metadata": {},
     "output_type": "execute_result"
    }
   ],
   "source": [
    "# Use indexing to select 0 to 16 element with step of 2\n",
    "list[0:17:2]"
   ]
  },
  {
   "cell_type": "code",
   "execution_count": 16,
   "id": "6f5f4931",
   "metadata": {},
   "outputs": [
    {
     "data": {
      "text/plain": [
       "[20, 19, 18, 17, 16, 15, 14, 13, 12, 11, 10]"
      ]
     },
     "execution_count": 16,
     "metadata": {},
     "output_type": "execute_result"
    }
   ],
   "source": [
    "# Use indexing to select -1 to -12 element (indexing backward)\n",
    "list[:-12:-1]"
   ]
  },
  {
   "cell_type": "markdown",
   "id": "0d6f4037",
   "metadata": {},
   "source": [
    "**<u>Attribute and Method<u>**"
   ]
  },
  {
   "cell_type": "code",
   "execution_count": 17,
   "id": "a7dd20c3",
   "metadata": {},
   "outputs": [
    {
     "name": "stdout",
     "output_type": "stream",
     "text": [
      "[1, 2, 3, 4, 5, 6, 7, 8, 9, 10, 11, 12, 13, 14, 15, 16, 17, 18, 19, 20]\n"
     ]
    }
   ],
   "source": [
    "list = [1,2,3,4,5,6,7,8,9,10,11,12,13,14,15,16,17,18,19,20]\n",
    "\n",
    "print(list)"
   ]
  },
  {
   "cell_type": "code",
   "execution_count": 18,
   "id": "ab2e6651",
   "metadata": {},
   "outputs": [
    {
     "data": {
      "text/plain": [
       "['__add__',\n",
       " '__class__',\n",
       " '__class_getitem__',\n",
       " '__contains__',\n",
       " '__delattr__',\n",
       " '__delitem__',\n",
       " '__dir__',\n",
       " '__doc__',\n",
       " '__eq__',\n",
       " '__format__',\n",
       " '__ge__',\n",
       " '__getattribute__',\n",
       " '__getitem__',\n",
       " '__getstate__',\n",
       " '__gt__',\n",
       " '__hash__',\n",
       " '__iadd__',\n",
       " '__imul__',\n",
       " '__init__',\n",
       " '__init_subclass__',\n",
       " '__iter__',\n",
       " '__le__',\n",
       " '__len__',\n",
       " '__lt__',\n",
       " '__mul__',\n",
       " '__ne__',\n",
       " '__new__',\n",
       " '__reduce__',\n",
       " '__reduce_ex__',\n",
       " '__repr__',\n",
       " '__reversed__',\n",
       " '__rmul__',\n",
       " '__setattr__',\n",
       " '__setitem__',\n",
       " '__sizeof__',\n",
       " '__str__',\n",
       " '__subclasshook__',\n",
       " 'append',\n",
       " 'clear',\n",
       " 'copy',\n",
       " 'count',\n",
       " 'extend',\n",
       " 'index',\n",
       " 'insert',\n",
       " 'pop',\n",
       " 'remove',\n",
       " 'reverse',\n",
       " 'sort']"
      ]
     },
     "execution_count": 18,
     "metadata": {},
     "output_type": "execute_result"
    }
   ],
   "source": [
    "# find all attribute and method of list using dir()\n",
    "dir(list)"
   ]
  },
  {
   "cell_type": "markdown",
   "id": "95c8abde",
   "metadata": {},
   "source": [
    "**<u>append<u>**"
   ]
  },
  {
   "cell_type": "code",
   "execution_count": 19,
   "id": "a820e048",
   "metadata": {},
   "outputs": [
    {
     "name": "stdout",
     "output_type": "stream",
     "text": [
      "Before append list = [1, 2, 3, 4, 5, 6, 7, 8, 9, 10, 11, 12, 13, 14, 15, 16, 17, 18, 19, 20]\n",
      "After append list = [1, 2, 3, 4, 5, 6, 7, 8, 9, 10, 11, 12, 13, 14, 15, 16, 17, 18, 19, 20, 100, 1000, 1500, 3000, 3000, 1500, 1500]\n"
     ]
    }
   ],
   "source": [
    "# Use .append() to append something at the end of the list\n",
    "print(f'Before append list = {list}')\n",
    "\n",
    "# append() number 100, 1000, 1500, 3000, 5000 to list\n",
    "# You can only append 1 element per one append\n",
    "list.append(100)\n",
    "list.append(1000)\n",
    "list.append(1500)\n",
    "list.append(3000)\n",
    "list.append(3000)\n",
    "list.append(1500)\n",
    "list.append(1500)\n",
    "\n",
    "print(f'After append list = {list}')"
   ]
  },
  {
   "cell_type": "markdown",
   "id": "dc21444b",
   "metadata": {},
   "source": [
    "**<u>insert<u>**"
   ]
  },
  {
   "cell_type": "code",
   "execution_count": 20,
   "id": "8cab59b8",
   "metadata": {},
   "outputs": [
    {
     "name": "stdout",
     "output_type": "stream",
     "text": [
      "Before insert list = [1, 2, 3, 4, 5, 6, 7, 8, 9, 10, 11, 12, 13, 14, 15, 16, 17, 18, 19, 20, 100, 1000, 1500, 3000, 3000, 1500, 1500]\n",
      "After insert list = [1, 2, 3, 4, 5, 6, 7, 8, 9, 10000, 10, 11, 12, 13, 14, 15, 16, 17, 18, 19, 20, 100, 1000, 1500, 3000, 3000, 1500, 1500]\n"
     ]
    }
   ],
   "source": [
    "# Use .insert() to insert element just like .append() but you can specify the index where you want to insert\n",
    "print(f'Before insert list = {list}')\n",
    "\n",
    "# insert 10000 at in dex 9\n",
    "list.insert(9,10000)\n",
    "\n",
    "print(f'After insert list = {list}')"
   ]
  },
  {
   "cell_type": "markdown",
   "id": "7bcf554a",
   "metadata": {},
   "source": [
    "**<u>count<u>**"
   ]
  },
  {
   "cell_type": "code",
   "execution_count": 21,
   "id": "bac64cf8",
   "metadata": {},
   "outputs": [
    {
     "name": "stdout",
     "output_type": "stream",
     "text": [
      "list = [1, 2, 3, 4, 5, 6, 7, 8, 9, 10000, 10, 11, 12, 13, 14, 15, 16, 17, 18, 19, 20, 100, 1000, 1500, 3000, 3000, 1500, 1500]\n",
      "\n",
      "1 appear 1 time\n",
      "3000 appear 2 time\n",
      "1500 appear 3 time\n"
     ]
    }
   ],
   "source": [
    "# Use .count() to count how many time that specific element appear in the list\n",
    "print(f'list = {list}\\n')\n",
    "\n",
    "# Count how many time 1, 3000, 1500 appear in the list\n",
    "print(f'1 appear {list.count(1)} time')\n",
    "print(f'3000 appear {list.count(3000)} time')\n",
    "print(f'1500 appear {list.count(1500)} time')"
   ]
  },
  {
   "cell_type": "markdown",
   "id": "f33f2588",
   "metadata": {},
   "source": [
    "**<u>index<u>**"
   ]
  },
  {
   "cell_type": "code",
   "execution_count": 22,
   "id": "c6a8ce27",
   "metadata": {},
   "outputs": [
    {
     "name": "stdout",
     "output_type": "stream",
     "text": [
      "list = [1, 2, 3, 4, 5, 6, 7, 8, 9, 10000, 10, 11, 12, 13, 14, 15, 16, 17, 18, 19, 20, 100, 1000, 1500, 3000, 3000, 1500, 1500]\n",
      "\n",
      "index of 13 is 13\n",
      "index of 100 is 21\n"
     ]
    }
   ],
   "source": [
    "# Use .index() to find index position of specific element\n",
    "print(f'list = {list}\\n')\n",
    "\n",
    "# Find index position of 13, 100\n",
    "print(f'index of 13 is {list.index(13)}')\n",
    "print(f'index of 100 is {list.index(100)}')"
   ]
  },
  {
   "cell_type": "code",
   "execution_count": 23,
   "id": "89003347",
   "metadata": {},
   "outputs": [
    {
     "name": "stdout",
     "output_type": "stream",
     "text": [
      "index of 1500 is 23\n",
      "index of 3000 is 24\n"
     ]
    }
   ],
   "source": [
    "# If that element appear many time in the list it will show index which first of that element appear\n",
    "\n",
    "# Find index of 1500, 3000\n",
    "print(f'index of 1500 is {list.index(1500)}')\n",
    "print(f'index of 3000 is {list.index(3000)}')"
   ]
  },
  {
   "cell_type": "markdown",
   "id": "7e0189e7",
   "metadata": {},
   "source": [
    "**<u>sort<u>**"
   ]
  },
  {
   "cell_type": "code",
   "execution_count": 24,
   "id": "36c5f137",
   "metadata": {},
   "outputs": [
    {
     "name": "stdout",
     "output_type": "stream",
     "text": [
      "list = [1, 2, 3, 4, 5, 6, 7, 8, 9, 10000, 10, 11, 12, 13, 14, 15, 16, 17, 18, 19, 20, 100, 1000, 1500, 3000, 3000, 1500, 1500]\n",
      "\n",
      "Ascending sort = [1, 2, 3, 4, 5, 6, 7, 8, 9, 10, 11, 12, 13, 14, 15, 16, 17, 18, 19, 20, 100, 1000, 1500, 1500, 1500, 3000, 3000, 10000]\n",
      "Descending sort = [10000, 3000, 3000, 1500, 1500, 1500, 1000, 100, 20, 19, 18, 17, 16, 15, 14, 13, 12, 11, 10, 9, 8, 7, 6, 5, 4, 3, 2, 1]\n"
     ]
    }
   ],
   "source": [
    "# Use .sort() to sort element in the list in ascending or descending order\n",
    "print(f'list = {list}\\n')\n",
    "\n",
    "# Sort list in ascending order\n",
    "list.sort()\n",
    "print(f'Ascending sort = {list}')\n",
    "\n",
    "# Sort list in descending order using reverse = True\n",
    "list.sort(reverse = True)\n",
    "print(f'Descending sort = {list}')"
   ]
  },
  {
   "cell_type": "markdown",
   "id": "71788060",
   "metadata": {},
   "source": [
    "**<u>reverse<u>**"
   ]
  },
  {
   "cell_type": "code",
   "execution_count": 25,
   "id": "9ad12a42",
   "metadata": {},
   "outputs": [
    {
     "name": "stdout",
     "output_type": "stream",
     "text": [
      "Original list = [10000, 3000, 3000, 1500, 1500, 1500, 1000, 100, 20, 19, 18, 17, 16, 15, 14, 13, 12, 11, 10, 9, 8, 7, 6, 5, 4, 3, 2, 1]\n",
      "Reverse list = [1, 2, 3, 4, 5, 6, 7, 8, 9, 10, 11, 12, 13, 14, 15, 16, 17, 18, 19, 20, 100, 1000, 1500, 1500, 1500, 3000, 3000, 10000]\n"
     ]
    }
   ],
   "source": [
    "# Use .reverse() to sort the list in reverse \n",
    "print(f'Original list = {list}')\n",
    "\n",
    "# Reverse the list\n",
    "list.reverse()\n",
    "print(f'Reverse list = {list}')"
   ]
  },
  {
   "cell_type": "markdown",
   "id": "c0102547",
   "metadata": {},
   "source": [
    "**<u>pop<u>**"
   ]
  },
  {
   "cell_type": "code",
   "execution_count": 26,
   "id": "6bd8f567",
   "metadata": {},
   "outputs": [
    {
     "name": "stdout",
     "output_type": "stream",
     "text": [
      "Before pop list = [1, 2, 3, 4, 5, 6, 7, 8, 9, 10, 11, 12, 13, 14, 15, 16, 17, 18, 19, 20, 100, 1000, 1500, 1500, 1500, 3000, 3000, 10000]\n",
      "After pop list = [1, 2, 3, 4, 5, 6, 7, 8, 9, 10, 11, 12, 13, 14, 15, 16, 17, 18, 19, 20, 100, 1000, 1500, 1500, 1500, 3000, 3000]\n"
     ]
    }
   ],
   "source": [
    "# Use .pop() to remove last element in the list\n",
    "print(f'Before pop list = {list}')\n",
    "\n",
    "# Pop the last element\n",
    "list.pop()\n",
    "print(f'After pop list = {list}')"
   ]
  },
  {
   "cell_type": "code",
   "execution_count": 27,
   "id": "319ceaf8",
   "metadata": {},
   "outputs": [
    {
     "name": "stdout",
     "output_type": "stream",
     "text": [
      "list = [1, 2, 3, 4, 5, 6, 7, 8, 9, 10, 11, 12, 13, 14, 15, 16, 17, 18, 19, 20]\n"
     ]
    }
   ],
   "source": [
    "# You can use .pop() with for loop\n",
    "for i in range(1,8):\n",
    "    list.pop()\n",
    "    \n",
    "print(f'list = {list}')"
   ]
  },
  {
   "cell_type": "markdown",
   "id": "a76b888e",
   "metadata": {},
   "source": [
    "**<u>remove<u>**"
   ]
  },
  {
   "cell_type": "code",
   "execution_count": 28,
   "id": "fe807a8f",
   "metadata": {},
   "outputs": [
    {
     "name": "stdout",
     "output_type": "stream",
     "text": [
      "Before remove list = [1, 2, 3, 4, 5, 6, 7, 8, 9, 10, 11, 12, 13, 14, 15, 16, 17, 18, 19, 20]\n",
      "After remove list = [1, 2, 3, 4, 5, 6, 7, 8, 9, 11, 12, 13, 14, 15, 16, 17, 18, 19, 20]\n"
     ]
    }
   ],
   "source": [
    "# Use .remove() to remove element in the list just like .pop() but you can specify what element you want to remove\n",
    "print(f'Before remove list = {list}')\n",
    "\n",
    "# Remove 10 from the list\n",
    "list.remove(10)\n",
    "print(f'After remove list = {list}')"
   ]
  },
  {
   "cell_type": "markdown",
   "id": "7045ca41",
   "metadata": {},
   "source": [
    "**<u>extend<u>**"
   ]
  },
  {
   "cell_type": "code",
   "execution_count": 29,
   "id": "b432b9c6",
   "metadata": {},
   "outputs": [
    {
     "name": "stdout",
     "output_type": "stream",
     "text": [
      "Before extend list_2 = []\n",
      "After extend list_2 = [1, 2, 3, 4, 5, 10, 20, 30, 40, 50, 400, 100, 500, 200, 300, 's', 't', 'a', 'r', 'John', 'Sam', 'Barn', 150, 220, 340]\n"
     ]
    }
   ],
   "source": [
    "# Use .extend() to add iterable element to the list\n",
    "# iterable object is list, tuples, sets, dictionary, string\n",
    "\n",
    "list_1 = [1,2,3,4,5]\n",
    "tuple_1 = [10,20,30,40,50]\n",
    "set_1 = {100,200,300,400,500}\n",
    "dict_1 = {\"John\": 150, \"Sam\": 220, \"Barn\": 340}\n",
    "str_1 = \"star\"\n",
    "list_2 = []\n",
    "\n",
    "print(f'Before extend list_2 = {list_2}')\n",
    "\n",
    "# Extend list_2 with list_1, tuple_1, set_1, dict_1, str_1\n",
    "list_2.extend(list_1)\n",
    "list_2.extend(tuple_1)\n",
    "list_2.extend(set_1)\n",
    "list_2.extend(str_1)\n",
    "list_2.extend(dict_1.keys())\n",
    "list_2.extend(dict_1.values())\n",
    "\n",
    "print(f'After extend list_2 = {list_2}')"
   ]
  },
  {
   "cell_type": "markdown",
   "id": "ed1e544c",
   "metadata": {},
   "source": [
    "**<u>clear<u>**"
   ]
  },
  {
   "cell_type": "code",
   "execution_count": 30,
   "id": "d3a31931",
   "metadata": {},
   "outputs": [
    {
     "name": "stdout",
     "output_type": "stream",
     "text": [
      "Before clear list_2 = [1, 2, 3, 4, 5, 10, 20, 30, 40, 50, 400, 100, 500, 200, 300, 's', 't', 'a', 'r', 'John', 'Sam', 'Barn', 150, 220, 340]\n",
      "After clear list_2 = []\n"
     ]
    }
   ],
   "source": [
    "# Use .clear() to clear all element in the list\n",
    "print(f'Before clear list_2 = {list_2}')\n",
    "\n",
    "# Clear list_2\n",
    "list_2.clear()\n",
    "\n",
    "print(f'After clear list_2 = {list_2}')"
   ]
  },
  {
   "cell_type": "markdown",
   "id": "2951f631",
   "metadata": {},
   "source": [
    "---\n",
    "### <font color = 'cornflowerblue'>tuple</font>"
   ]
  },
  {
   "cell_type": "code",
   "execution_count": 31,
   "id": "5d2728e8",
   "metadata": {},
   "outputs": [
    {
     "name": "stdout",
     "output_type": "stream",
     "text": [
      "(1, 2, 3, 4, 5)\n",
      "<class 'tuple'>\n"
     ]
    }
   ],
   "source": [
    "# Tuple is like list but it can't be modify like list \n",
    "# Create tuple using ()\n",
    "tup = (1,2,3,4,5)\n",
    "\n",
    "print(tup)\n",
    "print(type(tup))"
   ]
  },
  {
   "cell_type": "markdown",
   "id": "29731b2b",
   "metadata": {},
   "source": [
    "---\n",
    "### <font color = 'cornflowerblue'>set</font>"
   ]
  },
  {
   "cell_type": "code",
   "execution_count": 32,
   "id": "aed13c88",
   "metadata": {},
   "outputs": [
    {
     "name": "stdout",
     "output_type": "stream",
     "text": [
      "{1, 2, 3, 4, 5, 6, 7, 8, 9, 10, 11, 12, 13, 14, 15, 16, 17, 18, 19, 20}\n",
      "<class 'set'>\n"
     ]
    }
   ],
   "source": [
    "# Set can't contain a duplicate element \n",
    "# Create set using {}\n",
    "set_1 = {1,2,2,3,4,5,5,5,6,7,7,8,9,10,11,12,13,13,14,15,16,17,18,18,19,20,20}\n",
    "\n",
    "print(set_1)\n",
    "print(type(set_1))"
   ]
  },
  {
   "cell_type": "code",
   "execution_count": 33,
   "id": "db873771",
   "metadata": {},
   "outputs": [
    {
     "data": {
      "text/plain": [
       "['__and__',\n",
       " '__class__',\n",
       " '__class_getitem__',\n",
       " '__contains__',\n",
       " '__delattr__',\n",
       " '__dir__',\n",
       " '__doc__',\n",
       " '__eq__',\n",
       " '__format__',\n",
       " '__ge__',\n",
       " '__getattribute__',\n",
       " '__getstate__',\n",
       " '__gt__',\n",
       " '__hash__',\n",
       " '__iand__',\n",
       " '__init__',\n",
       " '__init_subclass__',\n",
       " '__ior__',\n",
       " '__isub__',\n",
       " '__iter__',\n",
       " '__ixor__',\n",
       " '__le__',\n",
       " '__len__',\n",
       " '__lt__',\n",
       " '__ne__',\n",
       " '__new__',\n",
       " '__or__',\n",
       " '__rand__',\n",
       " '__reduce__',\n",
       " '__reduce_ex__',\n",
       " '__repr__',\n",
       " '__ror__',\n",
       " '__rsub__',\n",
       " '__rxor__',\n",
       " '__setattr__',\n",
       " '__sizeof__',\n",
       " '__str__',\n",
       " '__sub__',\n",
       " '__subclasshook__',\n",
       " '__xor__',\n",
       " 'add',\n",
       " 'clear',\n",
       " 'copy',\n",
       " 'difference',\n",
       " 'difference_update',\n",
       " 'discard',\n",
       " 'intersection',\n",
       " 'intersection_update',\n",
       " 'isdisjoint',\n",
       " 'issubset',\n",
       " 'issuperset',\n",
       " 'pop',\n",
       " 'remove',\n",
       " 'symmetric_difference',\n",
       " 'symmetric_difference_update',\n",
       " 'union',\n",
       " 'update']"
      ]
     },
     "execution_count": 33,
     "metadata": {},
     "output_type": "execute_result"
    }
   ],
   "source": [
    "# find all attribute and method of set using dir()\n",
    "dir(set_1)"
   ]
  },
  {
   "cell_type": "markdown",
   "id": "8a3f8d81",
   "metadata": {},
   "source": [
    "**<u>add<u>**"
   ]
  },
  {
   "cell_type": "code",
   "execution_count": 34,
   "id": "ef40efba",
   "metadata": {},
   "outputs": [
    {
     "name": "stdout",
     "output_type": "stream",
     "text": [
      "Before add set_1 = {1, 2, 3, 4, 5, 6, 7, 8, 9, 10, 11, 12, 13, 14, 15, 16, 17, 18, 19, 20}\n",
      "After add set_1 = {1, 2, 3, 4, 5, 6, 7, 8, 9, 10, 11, 12, 13, 14, 15, 16, 17, 18, 19, 20, 25, 30}\n"
     ]
    }
   ],
   "source": [
    "# Use .add() to add element to set\n",
    "print(f'Before add set_1 = {set_1}')\n",
    "\n",
    "# Add 10,20,25,30 to set_1\n",
    "set_1.add(10)\n",
    "set_1.add(20)\n",
    "set_1.add(25)\n",
    "set_1.add(30)\n",
    "\n",
    "print(f'After add set_1 = {set_1}')"
   ]
  },
  {
   "cell_type": "markdown",
   "id": "2f3788c6",
   "metadata": {},
   "source": [
    "**<u>difference<u>**"
   ]
  },
  {
   "cell_type": "code",
   "execution_count": 35,
   "id": "74d971d6",
   "metadata": {},
   "outputs": [
    {
     "name": "stdout",
     "output_type": "stream",
     "text": [
      "set_1 = {1, 2, 3, 4, 5, 6, 7, 8, 9, 10, 11, 12, 13, 14, 15, 16, 17, 18, 19, 20, 25, 30}\n",
      "set_2 = {20, 5, 25, 10, 30, 15}\n",
      "\n",
      "Difference between set_1 and set_2 = {1, 2, 3, 4, 6, 7, 8, 9, 11, 12, 13, 14, 16, 17, 18, 19}\n",
      "Difference between set_2 and set_1 = set()\n"
     ]
    }
   ],
   "source": [
    "# Use .difference to find difference between two set\n",
    "# It use to find element that only appear in itself not other set that it compare to\n",
    "\n",
    "# Create set_2\n",
    "set_2 = {5,10,15,20,25,30}\n",
    "print(f'set_1 = {set_1}')\n",
    "print(f'set_2 = {set_2}')\n",
    "\n",
    "# Find difference between set_1 and set_2\n",
    "print(f'\\nDifference between set_1 and set_2 = {set_1.difference(set_2)}')\n",
    "\n",
    "# Find difference between set_2 and set_1\n",
    "print(f'Difference between set_2 and set_1 = {set_2.difference(set_1)}')"
   ]
  },
  {
   "cell_type": "markdown",
   "id": "d49bc552",
   "metadata": {},
   "source": [
    "**<u>intersection<u>**"
   ]
  },
  {
   "cell_type": "code",
   "execution_count": 36,
   "id": "2cba890a",
   "metadata": {},
   "outputs": [
    {
     "name": "stdout",
     "output_type": "stream",
     "text": [
      "set_3 = {2, 4, 6, 8, 10, 12, 14, 16, 18, 20, 22, 24, 26, 28, 30}\n",
      "set_4 = {3, 6, 9, 12, 15, 18, 21, 24, 27, 30}\n",
      "\n",
      "set_3 intersect set_4 = {6, 12, 18, 24, 30}\n"
     ]
    }
   ],
   "source": [
    "# Use .intersection to find intersection between two set\n",
    "\n",
    "# Create set_3 and set_4\n",
    "set_3 = {2,4,6,8,10,12,14,16,18,20,22,24,26,28,30}\n",
    "set_4 = {3,6,9,12,15,18,21,24,27,30}\n",
    "\n",
    "print(f'set_3 = {set_3}')\n",
    "print(f'set_4 = {set_4}')\n",
    "\n",
    "# Find intersection of set_3 and set_4\n",
    "print(f'\\nset_3 intersect set_4 = {set_3.intersection(set_4)}')"
   ]
  },
  {
   "cell_type": "markdown",
   "id": "69c24cc7",
   "metadata": {},
   "source": [
    "**<u>issubset<u>**"
   ]
  },
  {
   "cell_type": "code",
   "execution_count": 37,
   "id": "1f7e6fe4",
   "metadata": {},
   "outputs": [
    {
     "name": "stdout",
     "output_type": "stream",
     "text": [
      "set_5 = {1, 2, 3, 4}\n",
      "set_6 = {1, 2, 3, 4, 5, 6, 7, 8, 9, 10}\n",
      "set_7 = {2, 3, 4, 5, 7, 8, 11}\n",
      "\n",
      "set_5 is subset of set_6 is True\n",
      "set_5 is subset of set_7 is False\n"
     ]
    }
   ],
   "source": [
    "# Use .issubset() to find that set is subset of other set\n",
    "\n",
    "# Create set_5, set_6 and set_7\n",
    "set_5 = {1,2,3,4}\n",
    "set_6 = {1,2,3,4,5,6,7,8,9,10}\n",
    "set_7 = {2,3,4,5,7,8,11}\n",
    "\n",
    "print(f'set_5 = {set_5}')\n",
    "print(f'set_6 = {set_6}')\n",
    "print(f'set_7 = {set_7}')\n",
    "\n",
    "# Find if set_5 issubset of set_6 and set_7\n",
    "print(f'\\nset_5 is subset of set_6 is {set_5.issubset(set_6)}')\n",
    "print(f'set_5 is subset of set_7 is {set_5.issubset(set_7)}')"
   ]
  },
  {
   "cell_type": "markdown",
   "id": "d9ce6411",
   "metadata": {},
   "source": [
    "**<u>union<u>**"
   ]
  },
  {
   "cell_type": "code",
   "execution_count": 38,
   "id": "661996d3",
   "metadata": {},
   "outputs": [
    {
     "name": "stdout",
     "output_type": "stream",
     "text": [
      "set_8 = {1, 3, 5, 7, 9}\n",
      "set_9 = {2, 4, 6, 8, 10}\n",
      "\n",
      "set_8 union set_9 = {1, 2, 3, 4, 5, 6, 7, 8, 9, 10}\n"
     ]
    }
   ],
   "source": [
    "# Use .union() to union set\n",
    "\n",
    "# Create set_8 and set_9\n",
    "set_8 = {1,3,5,7,9}\n",
    "set_9 = {2,4,6,8,10}\n",
    "\n",
    "print(f'set_8 = {set_8}')\n",
    "print(f'set_9 = {set_9}')\n",
    "\n",
    "# Union set_8 and set_9\n",
    "print(f'\\nset_8 union set_9 = {set_8.union(set_9)}')"
   ]
  },
  {
   "cell_type": "markdown",
   "id": "40b3271e",
   "metadata": {},
   "source": [
    "---\n",
    "### <font color = 'cornflowerblue'>string</font>"
   ]
  },
  {
   "cell_type": "code",
   "execution_count": 39,
   "id": "9794bb1f",
   "metadata": {},
   "outputs": [
    {
     "name": "stdout",
     "output_type": "stream",
     "text": [
      "name =  Johny Bravo \n"
     ]
    }
   ],
   "source": [
    "# String is only a group of letter combine together to form a word or even sentence\n",
    "# Create a string\n",
    "name = \" Johny Bravo \"\n",
    "\n",
    "print(f'name = {name}')"
   ]
  },
  {
   "cell_type": "code",
   "execution_count": 40,
   "id": "51d93d0c",
   "metadata": {
    "scrolled": false
   },
   "outputs": [
    {
     "data": {
      "text/plain": [
       "['__add__',\n",
       " '__class__',\n",
       " '__contains__',\n",
       " '__delattr__',\n",
       " '__dir__',\n",
       " '__doc__',\n",
       " '__eq__',\n",
       " '__format__',\n",
       " '__ge__',\n",
       " '__getattribute__',\n",
       " '__getitem__',\n",
       " '__getnewargs__',\n",
       " '__getstate__',\n",
       " '__gt__',\n",
       " '__hash__',\n",
       " '__init__',\n",
       " '__init_subclass__',\n",
       " '__iter__',\n",
       " '__le__',\n",
       " '__len__',\n",
       " '__lt__',\n",
       " '__mod__',\n",
       " '__mul__',\n",
       " '__ne__',\n",
       " '__new__',\n",
       " '__reduce__',\n",
       " '__reduce_ex__',\n",
       " '__repr__',\n",
       " '__rmod__',\n",
       " '__rmul__',\n",
       " '__setattr__',\n",
       " '__sizeof__',\n",
       " '__str__',\n",
       " '__subclasshook__',\n",
       " 'capitalize',\n",
       " 'casefold',\n",
       " 'center',\n",
       " 'count',\n",
       " 'encode',\n",
       " 'endswith',\n",
       " 'expandtabs',\n",
       " 'find',\n",
       " 'format',\n",
       " 'format_map',\n",
       " 'index',\n",
       " 'isalnum',\n",
       " 'isalpha',\n",
       " 'isascii',\n",
       " 'isdecimal',\n",
       " 'isdigit',\n",
       " 'isidentifier',\n",
       " 'islower',\n",
       " 'isnumeric',\n",
       " 'isprintable',\n",
       " 'isspace',\n",
       " 'istitle',\n",
       " 'isupper',\n",
       " 'join',\n",
       " 'ljust',\n",
       " 'lower',\n",
       " 'lstrip',\n",
       " 'maketrans',\n",
       " 'partition',\n",
       " 'removeprefix',\n",
       " 'removesuffix',\n",
       " 'replace',\n",
       " 'rfind',\n",
       " 'rindex',\n",
       " 'rjust',\n",
       " 'rpartition',\n",
       " 'rsplit',\n",
       " 'rstrip',\n",
       " 'split',\n",
       " 'splitlines',\n",
       " 'startswith',\n",
       " 'strip',\n",
       " 'swapcase',\n",
       " 'title',\n",
       " 'translate',\n",
       " 'upper',\n",
       " 'zfill']"
      ]
     },
     "execution_count": 40,
     "metadata": {},
     "output_type": "execute_result"
    }
   ],
   "source": [
    "# find all attribute and method of string using dir()\n",
    "dir(name)"
   ]
  },
  {
   "cell_type": "markdown",
   "id": "1cf9bb8f",
   "metadata": {},
   "source": [
    "**<u>strip<u>**"
   ]
  },
  {
   "cell_type": "code",
   "execution_count": 41,
   "id": "4e0d01d8",
   "metadata": {},
   "outputs": [
    {
     "data": {
      "text/plain": [
       "' Johny Bravo '"
      ]
     },
     "execution_count": 41,
     "metadata": {},
     "output_type": "execute_result"
    }
   ],
   "source": [
    "# Use .strip() to trim the space infront and back of that string\n",
    "\n",
    "# Before strip\n",
    "name"
   ]
  },
  {
   "cell_type": "code",
   "execution_count": 42,
   "id": "f52f031d",
   "metadata": {},
   "outputs": [
    {
     "data": {
      "text/plain": [
       "'Johny Bravo'"
      ]
     },
     "execution_count": 42,
     "metadata": {},
     "output_type": "execute_result"
    }
   ],
   "source": [
    "# After strip\n",
    "name = name.strip()\n",
    "name"
   ]
  },
  {
   "cell_type": "markdown",
   "id": "05a1749e",
   "metadata": {},
   "source": [
    "**<u>lower<u>**"
   ]
  },
  {
   "cell_type": "code",
   "execution_count": 43,
   "id": "16e00630",
   "metadata": {},
   "outputs": [
    {
     "name": "stdout",
     "output_type": "stream",
     "text": [
      "Before lower Johny Bravo\n",
      "After lower johny bravo\n"
     ]
    }
   ],
   "source": [
    "# Use .lower() to lower the case of string\n",
    "print(f'Before lower {name}')\n",
    "\n",
    "# lower the string\n",
    "name = name.lower()\n",
    "print(f'After lower {name}')"
   ]
  },
  {
   "cell_type": "markdown",
   "id": "3d933849",
   "metadata": {},
   "source": [
    "**<u>upper<u>**"
   ]
  },
  {
   "cell_type": "code",
   "execution_count": 44,
   "id": "b44cfb51",
   "metadata": {},
   "outputs": [
    {
     "name": "stdout",
     "output_type": "stream",
     "text": [
      "Before upper johny bravo\n",
      "After upper JOHNY BRAVO\n"
     ]
    }
   ],
   "source": [
    "# Use .upper() to upper the case of string\n",
    "print(f'Before upper {name}')\n",
    "\n",
    "# upper the string\n",
    "name = name.upper()\n",
    "print(f'After upper {name}')"
   ]
  },
  {
   "cell_type": "markdown",
   "id": "2b151692",
   "metadata": {},
   "source": [
    "**<u>title<u>**"
   ]
  },
  {
   "cell_type": "code",
   "execution_count": 45,
   "id": "493e70b9",
   "metadata": {},
   "outputs": [
    {
     "name": "stdout",
     "output_type": "stream",
     "text": [
      "Before title JOHNY BRAVO\n",
      "After title Johny Bravo\n"
     ]
    }
   ],
   "source": [
    "# Use .title() to upper each first letter of string\n",
    "print(f'Before title {name}')\n",
    "\n",
    "# Title the string\n",
    "name = name.title()\n",
    "print(f'After title {name}')"
   ]
  },
  {
   "cell_type": "markdown",
   "id": "dfdfa00c",
   "metadata": {},
   "source": [
    "**<u>swapcase<u>**"
   ]
  },
  {
   "cell_type": "code",
   "execution_count": 46,
   "id": "71128018",
   "metadata": {},
   "outputs": [
    {
     "name": "stdout",
     "output_type": "stream",
     "text": [
      "Before swapcase Johny Bravo\n",
      "After swapcase jOHNY bRAVO\n"
     ]
    }
   ],
   "source": [
    "# Use .swapcase() to swap upper and lower case\n",
    "print(f'Before swapcase {name}')\n",
    "\n",
    "# Swap the string\n",
    "name = name.swapcase()\n",
    "print(f'After swapcase {name}')"
   ]
  },
  {
   "cell_type": "markdown",
   "id": "667e3c5b",
   "metadata": {},
   "source": [
    "**<u>split<u>**"
   ]
  },
  {
   "cell_type": "code",
   "execution_count": 47,
   "id": "db05bf42",
   "metadata": {},
   "outputs": [
    {
     "name": "stdout",
     "output_type": "stream",
     "text": [
      "['jOHNY', 'bRAVO']\n"
     ]
    }
   ],
   "source": [
    "# Use to .split() string into list by the space\n",
    "\n",
    "# Set name_list equal to split of name\n",
    "name_list = name.split()\n",
    "print(name_list)"
   ]
  },
  {
   "cell_type": "markdown",
   "id": "a2e4b50f",
   "metadata": {},
   "source": [
    "**<u>find<u>**"
   ]
  },
  {
   "cell_type": "code",
   "execution_count": 48,
   "id": "9cb6b559",
   "metadata": {},
   "outputs": [
    {
     "name": "stdout",
     "output_type": "stream",
     "text": [
      "jOHNY bRAVO\n"
     ]
    },
    {
     "data": {
      "text/plain": [
       "3"
      ]
     },
     "execution_count": 48,
     "metadata": {},
     "output_type": "execute_result"
    }
   ],
   "source": [
    "# Use .find() to find specific letter in the string\n",
    "print(name)\n",
    "\n",
    "# Find letter N in name string\n",
    "name.find(\"N\")"
   ]
  },
  {
   "cell_type": "markdown",
   "id": "1ed7e99f",
   "metadata": {},
   "source": [
    "**<u>count<u>**"
   ]
  },
  {
   "cell_type": "code",
   "execution_count": 49,
   "id": "a930d373",
   "metadata": {},
   "outputs": [
    {
     "name": "stdout",
     "output_type": "stream",
     "text": [
      "jOHNY bRAVO\n"
     ]
    },
    {
     "data": {
      "text/plain": [
       "2"
      ]
     },
     "execution_count": 49,
     "metadata": {},
     "output_type": "execute_result"
    }
   ],
   "source": [
    "# Use .count() to count how many time that letter appear in the string\n",
    "print(name)\n",
    "\n",
    "# Coutn how many time O appear in name string\n",
    "name.count(\"O\")"
   ]
  },
  {
   "cell_type": "markdown",
   "id": "010c52d0",
   "metadata": {},
   "source": [
    "**<u>replace<u>**"
   ]
  },
  {
   "cell_type": "code",
   "execution_count": 50,
   "id": "f73d3807",
   "metadata": {},
   "outputs": [
    {
     "name": "stdout",
     "output_type": "stream",
     "text": [
      "Before replace jOHNY bRAVO\n",
      "After replace jOHNY SIN\n"
     ]
    }
   ],
   "source": [
    "# Use .replace() to replace letter or word in the string\n",
    "print(f'Before replace {name}')\n",
    "\n",
    "# Replace bRAVO with SIN\n",
    "name = name.replace(\"bRAVO\", \"SIN\")\n",
    "print(f'After replace {name}')"
   ]
  },
  {
   "cell_type": "markdown",
   "id": "0e885c15",
   "metadata": {},
   "source": [
    "---\n",
    "### <font color = 'cornflowerblue'>range</font>"
   ]
  },
  {
   "cell_type": "code",
   "execution_count": 1,
   "id": "a1abce22",
   "metadata": {},
   "outputs": [
    {
     "name": "stdout",
     "output_type": "stream",
     "text": [
      "range(0, 20)\n",
      "<class 'range'>\n"
     ]
    }
   ],
   "source": [
    "# Range is just a range of number \n",
    "\n",
    "# Create range of 0 to 20\n",
    "# 0 is include 20 is exclude\n",
    "num_range = range(0,20)\n",
    "\n",
    "print(num_range)\n",
    "print(type(num_range))"
   ]
  },
  {
   "cell_type": "code",
   "execution_count": 2,
   "id": "ac1e3754",
   "metadata": {},
   "outputs": [
    {
     "data": {
      "text/plain": [
       "[0, 1, 2, 3, 4, 5, 6, 7, 8, 9, 10, 11, 12, 13, 14, 15, 16, 17, 18, 19]"
      ]
     },
     "execution_count": 2,
     "metadata": {},
     "output_type": "execute_result"
    }
   ],
   "source": [
    "# You can turn range into list using list()\n",
    "list(num_range)"
   ]
  },
  {
   "cell_type": "markdown",
   "id": "f26d3c35",
   "metadata": {},
   "source": [
    "\n",
    "---\n",
    "<span style = \"color: blue; font-size: 30px\">**Dictionary**</span>\n",
    "\n",
    "**Dictionary is a datatype that contain key ans value each key will be unique and will have it own value**\n",
    "\n",
    "---"
   ]
  },
  {
   "cell_type": "code",
   "execution_count": 4,
   "id": "1fb8938b",
   "metadata": {},
   "outputs": [
    {
     "name": "stdout",
     "output_type": "stream",
     "text": [
      "{'first_name': 'Alan', 'last_name': 'Sanderson', 'Departmenr': 'Engineering', 'Age': 27, 'GPA': 3.27}\n",
      "<class 'dict'>\n"
     ]
    }
   ],
   "source": [
    "# Create dictionary usig {:}\n",
    "student_dict = {\"first_name\":\"Alan\", \"last_name\":\"Sanderson\", \"Departmenr\":\"Engineering\", \"Age\":27, \"GPA\": 3.27}\n",
    "\n",
    "print(student_dict)\n",
    "print(type(student_dict))"
   ]
  },
  {
   "cell_type": "code",
   "execution_count": 5,
   "id": "2effbd3c",
   "metadata": {},
   "outputs": [
    {
     "data": {
      "text/plain": [
       "['__class__',\n",
       " '__class_getitem__',\n",
       " '__contains__',\n",
       " '__delattr__',\n",
       " '__delitem__',\n",
       " '__dir__',\n",
       " '__doc__',\n",
       " '__eq__',\n",
       " '__format__',\n",
       " '__ge__',\n",
       " '__getattribute__',\n",
       " '__getitem__',\n",
       " '__getstate__',\n",
       " '__gt__',\n",
       " '__hash__',\n",
       " '__init__',\n",
       " '__init_subclass__',\n",
       " '__ior__',\n",
       " '__iter__',\n",
       " '__le__',\n",
       " '__len__',\n",
       " '__lt__',\n",
       " '__ne__',\n",
       " '__new__',\n",
       " '__or__',\n",
       " '__reduce__',\n",
       " '__reduce_ex__',\n",
       " '__repr__',\n",
       " '__reversed__',\n",
       " '__ror__',\n",
       " '__setattr__',\n",
       " '__setitem__',\n",
       " '__sizeof__',\n",
       " '__str__',\n",
       " '__subclasshook__',\n",
       " 'clear',\n",
       " 'copy',\n",
       " 'fromkeys',\n",
       " 'get',\n",
       " 'items',\n",
       " 'keys',\n",
       " 'pop',\n",
       " 'popitem',\n",
       " 'setdefault',\n",
       " 'update',\n",
       " 'values']"
      ]
     },
     "execution_count": 5,
     "metadata": {},
     "output_type": "execute_result"
    }
   ],
   "source": [
    "# find all attribute and method of dictionary using dir()\n",
    "dir(student_dict)"
   ]
  },
  {
   "cell_type": "markdown",
   "id": "12311827",
   "metadata": {},
   "source": [
    "**<u>get<u>**"
   ]
  },
  {
   "cell_type": "code",
   "execution_count": 6,
   "id": "57afb8b8",
   "metadata": {},
   "outputs": [
    {
     "name": "stdout",
     "output_type": "stream",
     "text": [
      "{'first_name': 'Alan', 'last_name': 'Sanderson', 'Departmenr': 'Engineering', 'Age': 27, 'GPA': 3.27}\n",
      "\n",
      "Value of Age is 27\n"
     ]
    }
   ],
   "source": [
    "# Use .get() to get the value of key that you specify\n",
    "print(student_dict)\n",
    "\n",
    "# Get value of Age\n",
    "print(f'\\nValue of Age is {student_dict.get(\"Age\")}')"
   ]
  },
  {
   "cell_type": "markdown",
   "id": "89626c47",
   "metadata": {},
   "source": [
    "**<u>keys<u>**"
   ]
  },
  {
   "cell_type": "code",
   "execution_count": 7,
   "id": "64e2c83f",
   "metadata": {},
   "outputs": [
    {
     "name": "stdout",
     "output_type": "stream",
     "text": [
      "dict_keys(['first_name', 'last_name', 'Departmenr', 'Age', 'GPA'])\n"
     ]
    }
   ],
   "source": [
    "# Use .keys() to get every keys in dictionary\n",
    "print(student_dict.keys())"
   ]
  },
  {
   "cell_type": "markdown",
   "id": "b14e5150",
   "metadata": {},
   "source": [
    "**<u>values<u>**"
   ]
  },
  {
   "cell_type": "code",
   "execution_count": 8,
   "id": "7698cd75",
   "metadata": {},
   "outputs": [
    {
     "name": "stdout",
     "output_type": "stream",
     "text": [
      "dict_values(['Alan', 'Sanderson', 'Engineering', 27, 3.27])\n"
     ]
    }
   ],
   "source": [
    "# Use .values() to get every values in dictionary\n",
    "print(student_dict.values())"
   ]
  },
  {
   "cell_type": "markdown",
   "id": "3350cc38",
   "metadata": {},
   "source": [
    "**<u>clear<u>**"
   ]
  },
  {
   "cell_type": "code",
   "execution_count": 9,
   "id": "a7aaf20c",
   "metadata": {},
   "outputs": [
    {
     "name": "stdout",
     "output_type": "stream",
     "text": [
      "Before clear {'first_name': 'Alan', 'last_name': 'Sanderson', 'Departmenr': 'Engineering', 'Age': 27, 'GPA': 3.27}\n",
      "After clear {}\n"
     ]
    }
   ],
   "source": [
    "# Use .clear() to clear all thing in dictionary\n",
    "print(f'Before clear {student_dict}')\n",
    "\n",
    "# Clear dictionary\n",
    "student_dict.clear()\n",
    "print(f'After clear {student_dict}')"
   ]
  },
  {
   "cell_type": "markdown",
   "id": "f760a9a6",
   "metadata": {},
   "source": [
    "---\n",
    "---\n",
    "<br></br>\n",
    "<span style = \"color: red; font-size: 50px\">**Operator**</span>  \n",
    "- **Math Operator**\n",
    "    - **+**  (Plus)\n",
    "    - **-**  (Minus)\n",
    "    - __*__  (Multiply)\n",
    "    - **/**  (Divide)\n",
    "    - __**__  (Power)\n",
    "    - **//**  (Integer Divide)\n",
    "    - **%**  (Modulator)\n",
    "    \n",
    "- **Logical Operator**\n",
    "    - **&**  (And)\n",
    "    - **|**  (Or)\n",
    "    - **not**\n",
    "    - **!=** (Not equal)\n",
    "    - **==**  (Equal)"
   ]
  },
  {
   "cell_type": "markdown",
   "id": "2358c3c1",
   "metadata": {},
   "source": [
    "---\n",
    "<span style = \"color: blue; font-size: 30px\">**Math Operator**</span>  \n",
    "- **+**  (Plus)\n",
    "- **-**  (Minus)\n",
    "- __*__  (Multiply)\n",
    "- **/**  (Divide)\n",
    "- __**__  (Power)\n",
    "- **//**  (Integer Divide)\n",
    "- **%**  (Modulator)\n",
    "---"
   ]
  },
  {
   "cell_type": "markdown",
   "id": "7ef174f0",
   "metadata": {},
   "source": [
    "**+ (Plus)**"
   ]
  },
  {
   "cell_type": "code",
   "execution_count": 10,
   "id": "ae1982cc",
   "metadata": {},
   "outputs": [
    {
     "data": {
      "text/plain": [
       "12"
      ]
     },
     "execution_count": 10,
     "metadata": {},
     "output_type": "execute_result"
    }
   ],
   "source": [
    "# Use + for plusing number\n",
    "5+7"
   ]
  },
  {
   "cell_type": "markdown",
   "id": "a25ff138",
   "metadata": {},
   "source": [
    "---\n",
    "**- (Minus)**"
   ]
  },
  {
   "cell_type": "code",
   "execution_count": 11,
   "id": "2059c86e",
   "metadata": {},
   "outputs": [
    {
     "data": {
      "text/plain": [
       "14"
      ]
     },
     "execution_count": 11,
     "metadata": {},
     "output_type": "execute_result"
    }
   ],
   "source": [
    "# Use - for minusing number \n",
    "18-4"
   ]
  },
  {
   "cell_type": "markdown",
   "id": "6174e384",
   "metadata": {},
   "source": [
    "---\n",
    "__* (Multiply)__"
   ]
  },
  {
   "cell_type": "code",
   "execution_count": 12,
   "id": "acf12908",
   "metadata": {},
   "outputs": [
    {
     "data": {
      "text/plain": [
       "20"
      ]
     },
     "execution_count": 12,
     "metadata": {},
     "output_type": "execute_result"
    }
   ],
   "source": [
    "# Use * for multiplying number \n",
    "5*4"
   ]
  },
  {
   "cell_type": "markdown",
   "id": "c4750ae6",
   "metadata": {},
   "source": [
    "---\n",
    "**/ (Divide)**"
   ]
  },
  {
   "cell_type": "code",
   "execution_count": 13,
   "id": "b425309e",
   "metadata": {},
   "outputs": [
    {
     "data": {
      "text/plain": [
       "6.666666666666667"
      ]
     },
     "execution_count": 13,
     "metadata": {},
     "output_type": "execute_result"
    }
   ],
   "source": [
    "# Use / for divide number\n",
    "20/3"
   ]
  },
  {
   "cell_type": "markdown",
   "id": "560bb1b9",
   "metadata": {},
   "source": [
    "---\n",
    "__** (Power)__"
   ]
  },
  {
   "cell_type": "code",
   "execution_count": 14,
   "id": "464cb71f",
   "metadata": {},
   "outputs": [
    {
     "data": {
      "text/plain": [
       "64"
      ]
     },
     "execution_count": 14,
     "metadata": {},
     "output_type": "execute_result"
    }
   ],
   "source": [
    "# Use ** for power the number\n",
    "4**3"
   ]
  },
  {
   "cell_type": "markdown",
   "id": "0bb4fa30",
   "metadata": {},
   "source": [
    "---\n",
    "**// (Integer Divide)**"
   ]
  },
  {
   "cell_type": "code",
   "execution_count": 15,
   "id": "07fe5fed",
   "metadata": {},
   "outputs": [
    {
     "data": {
      "text/plain": [
       "6"
      ]
     },
     "execution_count": 15,
     "metadata": {},
     "output_type": "execute_result"
    }
   ],
   "source": [
    "# Use // for integer divide\n",
    "20//3"
   ]
  },
  {
   "cell_type": "markdown",
   "id": "5933d1b6",
   "metadata": {},
   "source": [
    "---\n",
    "**% (Modulator)**"
   ]
  },
  {
   "cell_type": "code",
   "execution_count": 16,
   "id": "a2b92715",
   "metadata": {},
   "outputs": [
    {
     "data": {
      "text/plain": [
       "2"
      ]
     },
     "execution_count": 16,
     "metadata": {},
     "output_type": "execute_result"
    }
   ],
   "source": [
    "# Use % for remainder divide\n",
    "20%3"
   ]
  },
  {
   "cell_type": "markdown",
   "id": "a5e1f347",
   "metadata": {},
   "source": [
    "---\n",
    "<span style = \"color: blue; font-size: 30px\">**Logical Operator**</span>  \n",
    "- **&**  (And)\n",
    "- **|**  (Or)\n",
    "- **not**\n",
    "- **Comparison**\n",
    "    - **>** (More than)  \n",
    "    - **<** (Less than)  \n",
    "    - **==** (Equal to) \n",
    "    - **!=** (Not equal to)\n",
    "    - **>=** (More than or Equal to)  \n",
    "    - **<=** (Less than or Equal to)\n",
    "---"
   ]
  },
  {
   "cell_type": "markdown",
   "id": "fafdc81f",
   "metadata": {},
   "source": [
    "![truth_table](https://www.realdigital.org/img/228d4788d26e286b5706f6d644ddee8b.svg)"
   ]
  },
  {
   "cell_type": "markdown",
   "id": "59265728",
   "metadata": {},
   "source": [
    "**& (And)**"
   ]
  },
  {
   "cell_type": "code",
   "execution_count": 17,
   "id": "87137fe4",
   "metadata": {},
   "outputs": [
    {
     "name": "stdout",
     "output_type": "stream",
     "text": [
      "True & False is False\n",
      "1 & 0 is 0\n"
     ]
    }
   ],
   "source": [
    "# Use True and False\n",
    "print(f'True & False is {True & False}')\n",
    "\n",
    "# Use 1 and 0\n",
    "print(f'1 & 0 is {1 & 0}')"
   ]
  },
  {
   "cell_type": "markdown",
   "id": "e61f6f85",
   "metadata": {},
   "source": [
    "**| (Or)**"
   ]
  },
  {
   "cell_type": "code",
   "execution_count": 18,
   "id": "70e22326",
   "metadata": {},
   "outputs": [
    {
     "name": "stdout",
     "output_type": "stream",
     "text": [
      "True | False is True\n",
      "1 | 0 is 1\n"
     ]
    }
   ],
   "source": [
    "# Use True and False\n",
    "print(f'True | False is {True | False}')\n",
    "\n",
    "# Use 1 and 0\n",
    "print(f'1 | 0 is {1 | 0}')"
   ]
  },
  {
   "cell_type": "markdown",
   "id": "d3f374f6",
   "metadata": {},
   "source": [
    "**not**"
   ]
  },
  {
   "cell_type": "code",
   "execution_count": 19,
   "id": "7b0750c5",
   "metadata": {},
   "outputs": [
    {
     "name": "stdout",
     "output_type": "stream",
     "text": [
      "not True is False\n",
      "not False is True\n",
      "\n",
      "not 1 is False\n",
      "not 0 is True\n"
     ]
    }
   ],
   "source": [
    "# Use True and False\n",
    "print(f'not True is {not True}')\n",
    "print(f'not False is {not False}')\n",
    "\n",
    "# Use 1 and 0\n",
    "print(f'\\nnot 1 is {not 1}')\n",
    "print(f'not 0 is {not 0}')"
   ]
  },
  {
   "cell_type": "markdown",
   "id": "7bc16f9f",
   "metadata": {},
   "source": [
    "**> (More than)**"
   ]
  },
  {
   "cell_type": "code",
   "execution_count": 20,
   "id": "f2269cd6",
   "metadata": {},
   "outputs": [
    {
     "data": {
      "text/plain": [
       "True"
      ]
     },
     "execution_count": 20,
     "metadata": {},
     "output_type": "execute_result"
    }
   ],
   "source": [
    "2 > 1"
   ]
  },
  {
   "cell_type": "markdown",
   "id": "38628caf",
   "metadata": {},
   "source": [
    "**< (Less than)**"
   ]
  },
  {
   "cell_type": "code",
   "execution_count": 21,
   "id": "38ed6043",
   "metadata": {},
   "outputs": [
    {
     "data": {
      "text/plain": [
       "False"
      ]
     },
     "execution_count": 21,
     "metadata": {},
     "output_type": "execute_result"
    }
   ],
   "source": [
    "10 < 5"
   ]
  },
  {
   "cell_type": "markdown",
   "id": "622ea9d0",
   "metadata": {},
   "source": [
    "**== (Equal to)**"
   ]
  },
  {
   "cell_type": "code",
   "execution_count": 22,
   "id": "48d2836f",
   "metadata": {},
   "outputs": [
    {
     "data": {
      "text/plain": [
       "True"
      ]
     },
     "execution_count": 22,
     "metadata": {},
     "output_type": "execute_result"
    }
   ],
   "source": [
    "20 == (10 * 2)"
   ]
  },
  {
   "cell_type": "markdown",
   "id": "81e57a9b",
   "metadata": {},
   "source": [
    "**!= (Not equal to)**"
   ]
  },
  {
   "cell_type": "code",
   "execution_count": 23,
   "id": "4459143f",
   "metadata": {},
   "outputs": [
    {
     "data": {
      "text/plain": [
       "True"
      ]
     },
     "execution_count": 23,
     "metadata": {},
     "output_type": "execute_result"
    }
   ],
   "source": [
    "100 != (25 * 5)"
   ]
  },
  {
   "cell_type": "markdown",
   "id": "c9c518d4",
   "metadata": {},
   "source": [
    "**>= (More than or Equal to)**"
   ]
  },
  {
   "cell_type": "code",
   "execution_count": 24,
   "id": "1a6c01e8",
   "metadata": {},
   "outputs": [
    {
     "data": {
      "text/plain": [
       "True"
      ]
     },
     "execution_count": 24,
     "metadata": {},
     "output_type": "execute_result"
    }
   ],
   "source": [
    "27 >= (3 ** 3)"
   ]
  },
  {
   "cell_type": "markdown",
   "id": "1f0ce45a",
   "metadata": {},
   "source": [
    "**<= (Less than or Equal to)**"
   ]
  },
  {
   "cell_type": "code",
   "execution_count": 25,
   "id": "3ac02e05",
   "metadata": {},
   "outputs": [
    {
     "data": {
      "text/plain": [
       "False"
      ]
     },
     "execution_count": 25,
     "metadata": {},
     "output_type": "execute_result"
    }
   ],
   "source": [
    "16 <= (2 ** 3)"
   ]
  },
  {
   "cell_type": "markdown",
   "id": "3991cc77",
   "metadata": {},
   "source": [
    "---\n",
    "---\n",
    "<br></br>\n",
    "<span style = \"color: red; font-size: 50px\">**If Else**</span>  \n",
    "- **if**\n",
    "- **else**\n",
    "- **elif**"
   ]
  },
  {
   "cell_type": "markdown",
   "id": "488b33a7",
   "metadata": {},
   "source": [
    "---\n",
    "<span style = \"color: blue; font-size: 30px\">**if**</span>\n",
    "<br></br>\n",
    "**Use to check the condition if the condition is True do something**"
   ]
  },
  {
   "cell_type": "code",
   "execution_count": 26,
   "id": "67eb49ba",
   "metadata": {},
   "outputs": [
    {
     "name": "stdout",
     "output_type": "stream",
     "text": [
      "Welcome to event\n"
     ]
    }
   ],
   "source": [
    "# User want to register to event but we have to check their age if age is more than or equal to 18 then they can\n",
    "\n",
    "# Set age of user\n",
    "age = 23\n",
    "\n",
    "# Use if to check user age\n",
    "if age >= 18:\n",
    "    print(\"Welcome to event\")"
   ]
  },
  {
   "cell_type": "markdown",
   "id": "c7d16a1b",
   "metadata": {},
   "source": [
    "---\n",
    "<span style = \"color: blue; font-size: 30px\">**else**</span>\n",
    "<br></br>\n",
    "**Use after if to do something if the condition in if statement is not True**"
   ]
  },
  {
   "cell_type": "code",
   "execution_count": 27,
   "id": "865770c2",
   "metadata": {},
   "outputs": [
    {
     "name": "stdout",
     "output_type": "stream",
     "text": [
      "You are underage\n"
     ]
    }
   ],
   "source": [
    "# User want to register to event but we have to check their age if age is more than or equal to 18 then they can\n",
    "# Now if their age is less than 18 they are to young to register\n",
    "\n",
    "# Set age of user\n",
    "age = 15\n",
    "\n",
    "# Use if and else to check user age\n",
    "if age >= 18:\n",
    "    print(\"Welcome to event\")\n",
    "else:\n",
    "    print(\"You are underage\")"
   ]
  },
  {
   "cell_type": "markdown",
   "id": "d6006f3c",
   "metadata": {},
   "source": [
    "---\n",
    "<span style = \"color: blue; font-size: 30px\">**elif**</span>\n",
    "<br></br>\n",
    "**elif stand for else if it use when you have more than condition to check**"
   ]
  },
  {
   "cell_type": "code",
   "execution_count": 28,
   "id": "c816a4bb",
   "metadata": {},
   "outputs": [
    {
     "name": "stdout",
     "output_type": "stream",
     "text": [
      "Your age exceed limit\n"
     ]
    }
   ],
   "source": [
    "# User want to register to event but we have to check their age if age is more than or equal to 18 then they can\n",
    "# Now if their age is less than 18 they are to young to register\n",
    "# Also if their age is more than 45 then they are to old to enter the event\n",
    "\n",
    "# Set age of user\n",
    "age = 51\n",
    "\n",
    "# Use if, elif and else to check user age\n",
    "if age < 18:\n",
    "    print(\"You are underage\")\n",
    "elif age > 45:\n",
    "    print(\"Your age exceed limit\")\n",
    "else:\n",
    "    print(\"Welcome to event\")"
   ]
  },
  {
   "cell_type": "code",
   "execution_count": 29,
   "id": "ae31d510",
   "metadata": {},
   "outputs": [
    {
     "name": "stdout",
     "output_type": "stream",
     "text": [
      "Your age was not qualify\n"
     ]
    }
   ],
   "source": [
    "# You can also use logical operator & and | to combine the condition\n",
    "\n",
    "# Let only make condition as the one who can enter the event must have age between 18 to 45\n",
    "\n",
    "# Set age of user\n",
    "age = 48\n",
    "\n",
    "# Use if and else to check user age\n",
    "if (age >= 18) & (age <= 45):\n",
    "    print(\"Welcome to event\")\n",
    "else:\n",
    "    print(\"Your age was not qualify\")"
   ]
  },
  {
   "cell_type": "markdown",
   "id": "d9089beb",
   "metadata": {},
   "source": [
    "---\n",
    "---\n",
    "<br></br>\n",
    "<span style = \"color: red; font-size: 50px\">**Loop**</span>  \n",
    "- **for loop**  \n",
    "    - continue  \n",
    "    - break\n",
    "- **while loop**\n",
    "- **list comprehension**\n",
    "    - no condition\n",
    "    - have condition"
   ]
  },
  {
   "cell_type": "markdown",
   "id": "50b16f21",
   "metadata": {},
   "source": [
    "---\n",
    "<span style = \"color: blue; font-size: 30px\">**for loop**</span>\n",
    "<br></br>\n",
    "**Use for loop to execute code a fixed number of time. You can iterate over iterable object such as range, string, list, dictionary**"
   ]
  },
  {
   "cell_type": "code",
   "execution_count": 30,
   "id": "5eb60e6c",
   "metadata": {},
   "outputs": [
    {
     "name": "stdout",
     "output_type": "stream",
     "text": [
      "1\n",
      "2\n",
      "3\n",
      "4\n",
      "5\n",
      "6\n",
      "7\n",
      "8\n",
      "9\n",
      "10\n"
     ]
    }
   ],
   "source": [
    "# Use range\n",
    "\n",
    "# Create for loop to print number one to 10\n",
    "for i in range(1,11):\n",
    "    print(i)"
   ]
  },
  {
   "cell_type": "code",
   "execution_count": 31,
   "id": "7d426cff",
   "metadata": {},
   "outputs": [
    {
     "name": "stdout",
     "output_type": "stream",
     "text": [
      "H\n",
      "e\n",
      "l\n",
      "l\n",
      "o\n",
      " \n",
      "W\n",
      "o\n",
      "r\n",
      "l\n",
      "d\n"
     ]
    }
   ],
   "source": [
    "# Use string\n",
    "\n",
    "# Create string\n",
    "str_loop = \"Hello World\"\n",
    "\n",
    "# Create for loop to print each letter of string\n",
    "for x in str_loop:\n",
    "    print(x)"
   ]
  },
  {
   "cell_type": "code",
   "execution_count": 32,
   "id": "2be6246d",
   "metadata": {},
   "outputs": [
    {
     "name": "stdout",
     "output_type": "stream",
     "text": [
      "0\n",
      "1\n",
      "2\n",
      "3\n",
      "4\n"
     ]
    }
   ],
   "source": [
    "# Use list index\n",
    "\n",
    "# Create list \n",
    "list_loop = [10,20,30,40,50]\n",
    "\n",
    "# Create for loop to print each index of list using len()\n",
    "for i in range(len(list_loop)):\n",
    "    print(i)"
   ]
  },
  {
   "cell_type": "code",
   "execution_count": 33,
   "id": "93d1dd3a",
   "metadata": {},
   "outputs": [
    {
     "name": "stdout",
     "output_type": "stream",
     "text": [
      "John\n",
      "Bob\n",
      "Delan\n",
      "Rafa\n",
      "Elton\n",
      "Patrick\n"
     ]
    }
   ],
   "source": [
    "# Use list item\n",
    "\n",
    "# Create list\n",
    "list_name_loop = [\"John\", \"Bob\", \"Delan\", \"Rafa\", \"Elton\", \"Patrick\"]\n",
    "\n",
    "# Create for loop to print each item in the list\n",
    "for item in list_name_loop:\n",
    "    print(item)"
   ]
  },
  {
   "cell_type": "code",
   "execution_count": 34,
   "id": "b2c5641f",
   "metadata": {},
   "outputs": [
    {
     "name": "stdout",
     "output_type": "stream",
     "text": [
      "index: 0 item: John\n",
      "index: 1 item: Bob\n",
      "index: 2 item: Delan\n",
      "index: 3 item: Rafa\n",
      "index: 4 item: Elton\n",
      "index: 5 item: Patrick\n"
     ]
    }
   ],
   "source": [
    "# Use both list index and item using enumerate()\n",
    "\n",
    "# Create for loop to print each index and item in the list\n",
    "for i, item in enumerate(list_name_loop):\n",
    "    print(f'index: {i} item: {item}')"
   ]
  },
  {
   "cell_type": "markdown",
   "id": "ba1d62fb",
   "metadata": {},
   "source": [
    "---\n",
    "### <font color = 'cornflowerblue'>continue</font>\n",
    "**Use to skip the iteration to next iteration**"
   ]
  },
  {
   "cell_type": "code",
   "execution_count": 35,
   "id": "1449b5a0",
   "metadata": {},
   "outputs": [
    {
     "name": "stdout",
     "output_type": "stream",
     "text": [
      "1\n",
      "2\n",
      "3\n",
      "4\n",
      "5\n",
      "6\n",
      "8\n",
      "9\n",
      "10\n"
     ]
    }
   ],
   "source": [
    "# Create list of number from 1 to 10\n",
    "list_num = list(range(1,11))\n",
    "\n",
    "# Create for loop to print every number in list_num except 7\n",
    "for item in list_num:\n",
    "    if item == 7:\n",
    "        continue\n",
    "    print(item)"
   ]
  },
  {
   "cell_type": "markdown",
   "id": "2b9af89f",
   "metadata": {},
   "source": [
    "---\n",
    "### <font color = 'cornflowerblue'>break</font>\n",
    "**Use to break out of the loop**"
   ]
  },
  {
   "cell_type": "code",
   "execution_count": 36,
   "id": "06b9f3ef",
   "metadata": {},
   "outputs": [
    {
     "name": "stdout",
     "output_type": "stream",
     "text": [
      "1\n",
      "2\n",
      "3\n",
      "4\n",
      "5\n",
      "6\n"
     ]
    }
   ],
   "source": [
    "# Create a for loop to print every number list_num and break at 7\n",
    "for item in list_num:\n",
    "    if item == 7:\n",
    "        break\n",
    "    print(item)"
   ]
  },
  {
   "cell_type": "markdown",
   "id": "d93034e6",
   "metadata": {},
   "source": [
    "---\n",
    "<span style = \"color: blue; font-size: 30px\">**while loop**</span>\n",
    "<br></br>\n",
    "**Use while loop to execute code continuely if the specify condition is remain True**"
   ]
  },
  {
   "cell_type": "code",
   "execution_count": 37,
   "id": "60134bbe",
   "metadata": {},
   "outputs": [
    {
     "name": "stdout",
     "output_type": "stream",
     "text": [
      "0\n",
      "1\n",
      "2\n",
      "3\n",
      "4\n",
      "5\n",
      "6\n",
      "7\n",
      "8\n",
      "9\n",
      "10\n"
     ]
    }
   ],
   "source": [
    "# Create while loop to print number from 1 to 10\n",
    "i = 0\n",
    "\n",
    "while i < 11:\n",
    "    print(i)\n",
    "    i += 1"
   ]
  },
  {
   "cell_type": "markdown",
   "id": "dfb46d1f",
   "metadata": {},
   "source": [
    "---\n",
    "<span style = \"color: blue; font-size: 30px\">**list comprehension**</span>\n",
    "<br></br>\n",
    "**Use to insert item into list using help of loop and if else statement**"
   ]
  },
  {
   "cell_type": "markdown",
   "id": "a0df8b49",
   "metadata": {},
   "source": [
    "---\n",
    "### <font color = 'cornflowerblue'>no condition</font>\n",
    "**list comprehension = [expression for item in iterable object]**"
   ]
  },
  {
   "cell_type": "code",
   "execution_count": 38,
   "id": "5b5a22ce",
   "metadata": {},
   "outputs": [
    {
     "name": "stdout",
     "output_type": "stream",
     "text": [
      "list_power3 = [1, 8, 27, 64, 125, 216, 343, 512, 729, 1000]\n"
     ]
    }
   ],
   "source": [
    "# Use list comprehension to create a list of number from 1 to 10 to the power of 3\n",
    "\n",
    "# list comprehension = [expression for item in iterable object]\n",
    "list_power3 = [item ** 3 for item in range(1,11)]\n",
    "\n",
    "print(f'list_power3 = {list_power3}')"
   ]
  },
  {
   "cell_type": "code",
   "execution_count": 39,
   "id": "d000513c",
   "metadata": {},
   "outputs": [
    {
     "name": "stdout",
     "output_type": "stream",
     "text": [
      "list_mul2 = [24, 10, 34, 46, 14, 128, 256, 64, 154]\n"
     ]
    }
   ],
   "source": [
    "# Use list comprehension to create a list that is the number in this list multiply by 2\n",
    "list_normal = [12,5,17,23,7,64,128,32,77]\n",
    "\n",
    "# list comprehension = [expression for item in iterable object]\n",
    "list_mul2 = [item * 2 for item in list_normal]\n",
    "\n",
    "print(f'list_mul2 = {list_mul2}')"
   ]
  },
  {
   "cell_type": "markdown",
   "id": "aaa0d8c6",
   "metadata": {},
   "source": [
    "---\n",
    "### <font color = 'cornflowerblue'>have condition</font>\n",
    "**list comprehension = [expression (if else statement) for item in iterable object]**"
   ]
  },
  {
   "cell_type": "code",
   "execution_count": 40,
   "id": "52ebff29",
   "metadata": {},
   "outputs": [],
   "source": [
    "import numpy as np"
   ]
  },
  {
   "cell_type": "code",
   "execution_count": 41,
   "id": "d8fcf7dc",
   "metadata": {},
   "outputs": [
    {
     "name": "stdout",
     "output_type": "stream",
     "text": [
      "list_forcheck = [15  4 14  6 13 15 17  3 13 12]\n",
      "list_even = ['Odd', 'Even', 'Even', 'Even', 'Odd', 'Odd', 'Odd', 'Odd', 'Odd', 'Even']\n"
     ]
    }
   ],
   "source": [
    "# Use list comprehension to create list that tell the number from this list is odd or even\n",
    "list_forcheck = np.random.randint(1,20,10) \n",
    "\n",
    "# list comprehension = [expression (if statement) for item in iterable object]\n",
    "list_even = [\"Even\" if (item % 2 == 0) else \"Odd\" for item in list_forcheck]\n",
    "\n",
    "print(f'list_forcheck = {list_forcheck}')\n",
    "print(f'list_even = {list_even}')"
   ]
  },
  {
   "cell_type": "markdown",
   "id": "05d09979",
   "metadata": {},
   "source": [
    "---\n",
    "---\n",
    "<br></br>\n",
    "<span style = \"color: red; font-size: 50px\">**Function**</span>  \n",
    "- **Normal function**\n",
    "    - return\n",
    "- **map**\n",
    "- **reduce**\n",
    "- **filter**\n",
    "- **lambda function**"
   ]
  },
  {
   "cell_type": "markdown",
   "id": "f0e3b585",
   "metadata": {},
   "source": [
    "---\n",
    "<span style = \"color: blue; font-size: 30px\">**Normal function**</span>\n",
    "<br></br>\n",
    "**Function is a block of reuseable code you can write function specify what that function will do and cal the function to use it as you want**"
   ]
  },
  {
   "cell_type": "code",
   "execution_count": 42,
   "id": "5e127038",
   "metadata": {},
   "outputs": [],
   "source": [
    "# Write a function that calculate the area of circle from given radius\n",
    "def cir_area(rad):\n",
    "    area = 3.14 * (rad)**2\n",
    "    print(f'Area of circle is {area}')"
   ]
  },
  {
   "cell_type": "code",
   "execution_count": 43,
   "id": "6463eff7",
   "metadata": {},
   "outputs": [
    {
     "name": "stdout",
     "output_type": "stream",
     "text": [
      "Area of circle is 50.24\n"
     ]
    }
   ],
   "source": [
    "# Use cir_area function to calculate area of circle with radius of 4\n",
    "cir_area(4)"
   ]
  },
  {
   "cell_type": "code",
   "execution_count": 44,
   "id": "677213c5",
   "metadata": {},
   "outputs": [],
   "source": [
    "# Write a function that will convert temperature from celcius to fahrenheit\n",
    "def tem_con(celcius):\n",
    "    fahren = round((celcius * (9/5)) + 32, 3)\n",
    "    print(f'{celcius} C is {fahren} F')"
   ]
  },
  {
   "cell_type": "code",
   "execution_count": 45,
   "id": "a711156a",
   "metadata": {},
   "outputs": [
    {
     "name": "stdout",
     "output_type": "stream",
     "text": [
      "37.45 C is 99.41 F\n"
     ]
    }
   ],
   "source": [
    "# Use tem_con function to convert 37.45 celcius to fahrenheit\n",
    "tem_con(37.45)"
   ]
  },
  {
   "cell_type": "markdown",
   "id": "cda8a65a",
   "metadata": {},
   "source": [
    "---\n",
    "### <font color = 'cornflowerblue'>return</font>\n",
    "**Use to return something from function**"
   ]
  },
  {
   "cell_type": "code",
   "execution_count": 46,
   "id": "b914b9dc",
   "metadata": {},
   "outputs": [],
   "source": [
    "# Write a function that calculate the area of circle from given radius and return the value\n",
    "def cir_area_return(rad):\n",
    "    return round(3.14 * (rad)**2, 3)"
   ]
  },
  {
   "cell_type": "code",
   "execution_count": 47,
   "id": "6ad4a623",
   "metadata": {},
   "outputs": [
    {
     "name": "stdout",
     "output_type": "stream",
     "text": [
      "Area of circle is 50.24\n"
     ]
    }
   ],
   "source": [
    "# Use cir_area_return function to get area of circle with radius of 4 and store value in cir_area_val\n",
    "cir_area_val = cir_area_return(4)\n",
    "\n",
    "print(f'Area of circle is {cir_area_val}')"
   ]
  },
  {
   "cell_type": "code",
   "execution_count": 48,
   "id": "6282ba39",
   "metadata": {},
   "outputs": [],
   "source": [
    "# Write a function that will return a convert temperature from celcius to fahrenheit\n",
    "def tem_con_return(celcius):\n",
    "    return round((celcius * (9/5)) + 32, 3)"
   ]
  },
  {
   "cell_type": "code",
   "execution_count": 49,
   "id": "fd14157c",
   "metadata": {},
   "outputs": [
    {
     "name": "stdout",
     "output_type": "stream",
     "text": [
      "37.45 C is 99.41 F\n"
     ]
    }
   ],
   "source": [
    "# Use tem_con function to get convert value of 37.45 celcius to fahrenheit and store value in cel_fah_val \n",
    "cel_fah_val = tem_con_return(37.45)\n",
    "\n",
    "print(f'37.45 C is {cel_fah_val} F')"
   ]
  },
  {
   "cell_type": "markdown",
   "id": "2e5eb3a4",
   "metadata": {},
   "source": [
    "---\n",
    "<span style = \"color: blue; font-size: 30px\">**map**</span>\n",
    "<br></br>\n",
    "**Use to appplied function to each item in iterable object**"
   ]
  },
  {
   "cell_type": "code",
   "execution_count": 50,
   "id": "62743301",
   "metadata": {},
   "outputs": [
    {
     "name": "stdout",
     "output_type": "stream",
     "text": [
      "rad_list = [1, 3, 2, 8, 4, 2.5, 1.6, 10, 5.4, 3.3]\n"
     ]
    }
   ],
   "source": [
    "# Create a list of circle radius\n",
    "rad_list = [1,3,2,8,4,2.5,1.6,10,5.4,3.3]\n",
    "\n",
    "print(f'rad_list = {rad_list}')"
   ]
  },
  {
   "cell_type": "code",
   "execution_count": 51,
   "id": "518d622d",
   "metadata": {},
   "outputs": [
    {
     "name": "stdout",
     "output_type": "stream",
     "text": [
      "<map object at 0x0000020EFF8B0820>\n"
     ]
    }
   ],
   "source": [
    "# Use cir_area_return function that we write before to calculate area of cirlce of all radius in the list use map\n",
    "area_list = map(cir_area_return, rad_list)\n",
    "\n",
    "print(area_list)"
   ]
  },
  {
   "cell_type": "code",
   "execution_count": 52,
   "id": "45ca1c96",
   "metadata": {},
   "outputs": [
    {
     "name": "stdout",
     "output_type": "stream",
     "text": [
      "[3.14, 28.26, 12.56, 200.96, 50.24, 19.625, 8.038, 314.0, 91.562, 34.195]\n"
     ]
    }
   ],
   "source": [
    "# You can convert map object into list using list()\n",
    "area_list = list(area_list) \n",
    "\n",
    "print(area_list)"
   ]
  },
  {
   "cell_type": "code",
   "execution_count": 53,
   "id": "11c245b6",
   "metadata": {},
   "outputs": [
    {
     "name": "stdout",
     "output_type": "stream",
     "text": [
      "cel_list = [31, 32, 33, 34, 35, 36, 37, 38, 34.2, 35.6, 27.8, 25]\n"
     ]
    }
   ],
   "source": [
    "# Create a list of temperature in celcius\n",
    "cel_list = [31,32,33,34,35,36,37,38,34.2,35.6,27.8,25]\n",
    "\n",
    "print(f'cel_list = {cel_list}')"
   ]
  },
  {
   "cell_type": "code",
   "execution_count": 54,
   "id": "030d8699",
   "metadata": {},
   "outputs": [
    {
     "name": "stdout",
     "output_type": "stream",
     "text": [
      "<map object at 0x0000020EFF8B0A60>\n"
     ]
    }
   ],
   "source": [
    "# Use tem_con_return function that we write before to convert celcius to fahrenheit of all temperature in the list\n",
    "fah_list = map(tem_con_return, cel_list)\n",
    "\n",
    "print(fah_list)"
   ]
  },
  {
   "cell_type": "code",
   "execution_count": 55,
   "id": "4e9cf605",
   "metadata": {},
   "outputs": [
    {
     "name": "stdout",
     "output_type": "stream",
     "text": [
      "[87.8, 89.6, 91.4, 93.2, 95.0, 96.8, 98.6, 100.4, 93.56, 96.08, 82.04, 77.0]\n"
     ]
    }
   ],
   "source": [
    "# You can convert map object into list using list()\n",
    "fah_list = list(fah_list) \n",
    "\n",
    "print(fah_list)"
   ]
  },
  {
   "cell_type": "markdown",
   "id": "cc22850b",
   "metadata": {},
   "source": [
    "---\n",
    "<span style = \"color: blue; font-size: 30px\">**reduce**</span>\n",
    "<br></br>\n",
    "**Use to applied function on iterable object and reduce it into single cumulative value. It will applied function on the first 2 item in the iterable and repeat process until 1 value remain**"
   ]
  },
  {
   "cell_type": "code",
   "execution_count": 66,
   "id": "87b7db08",
   "metadata": {},
   "outputs": [
    {
     "name": "stdout",
     "output_type": "stream",
     "text": [
      "num_115 = [1, 2, 3, 4, 5, 6, 7, 8, 9, 10, 11, 12, 13, 14, 15]\n"
     ]
    }
   ],
   "source": [
    "# Create a list of number 1 to 15\n",
    "num_115 = list(range(1,16))\n",
    "\n",
    "print(f'num_115 = {num_115}')"
   ]
  },
  {
   "cell_type": "code",
   "execution_count": 67,
   "id": "3109720b",
   "metadata": {},
   "outputs": [],
   "source": [
    "# Create function to multiply number\n",
    "def multi(x, y):\n",
    "    return x * y"
   ]
  },
  {
   "cell_type": "code",
   "execution_count": 68,
   "id": "b7917bf7",
   "metadata": {},
   "outputs": [
    {
     "name": "stdout",
     "output_type": "stream",
     "text": [
      "factorial is 1307674368000\n"
     ]
    }
   ],
   "source": [
    "# Import reduce\n",
    "from functools import reduce\n",
    "\n",
    "# Use reduce and multi function to find factorial of 25 which is all number in the list multiply together\n",
    "factorial = reduce(multi, num_115)\n",
    "\n",
    "print(f'factorial is {factorial}')"
   ]
  },
  {
   "cell_type": "code",
   "execution_count": 69,
   "id": "39623b9d",
   "metadata": {},
   "outputs": [
    {
     "name": "stdout",
     "output_type": "stream",
     "text": [
      "letter_list = ['H', 'e', 'l', 'l', ' ', 'W', 'o', 'r', 'l', 'd']\n"
     ]
    }
   ],
   "source": [
    "# Create list of letter \n",
    "letter_list = [\"H\", \"e\", \"l\", \"l\", \" \", \"W\", \"o\", \"r\", \"l\", \"d\"]\n",
    "\n",
    "print(f'letter_list = {letter_list}')"
   ]
  },
  {
   "cell_type": "code",
   "execution_count": 70,
   "id": "a895a5f9",
   "metadata": {},
   "outputs": [],
   "source": [
    "# Create function to concatenate letter\n",
    "def concat(x, y):\n",
    "    return x + y"
   ]
  },
  {
   "cell_type": "code",
   "execution_count": 71,
   "id": "d7ea5cdf",
   "metadata": {},
   "outputs": [
    {
     "name": "stdout",
     "output_type": "stream",
     "text": [
      "concat_word is Hell World\n"
     ]
    }
   ],
   "source": [
    "# Use reduce and concat function to concatenate letter in list to get a single word\n",
    "concat_word = reduce(concat, letter_list)\n",
    "\n",
    "print(f'concat_word is {concat_word}')"
   ]
  },
  {
   "cell_type": "markdown",
   "id": "ab285250",
   "metadata": {},
   "source": [
    "---\n",
    "<span style = \"color: blue; font-size: 30px\">**filter**</span>\n",
    "<br></br>\n",
    "**Use to filter item from iterable object which a function return True**"
   ]
  },
  {
   "cell_type": "code",
   "execution_count": 72,
   "id": "829e779b",
   "metadata": {},
   "outputs": [
    {
     "name": "stdout",
     "output_type": "stream",
     "text": [
      "people_age = [('Mark', 22), ('John', 17), ('Barnie', 25), ('Duck', 19), ('Alex', 18), ('Sam', 16), ('Susan', 24), ('Delan', 23)]\n"
     ]
    }
   ],
   "source": [
    "# Create a list of people and their age\n",
    "people_age = [(\"Mark\", 22), (\"John\", 17), (\"Barnie\", 25), (\"Duck\", 19), (\"Alex\", 18), (\"Sam\", 16), (\"Susan\", 24), (\"Delan\", 23)]\n",
    "\n",
    "print(f'people_age = {people_age}')"
   ]
  },
  {
   "cell_type": "code",
   "execution_count": 77,
   "id": "5aa79b11",
   "metadata": {},
   "outputs": [],
   "source": [
    "# Create a function to check if the age is over or equal to 18 or not\n",
    "def age_check(x):\n",
    "    return x[1] >= 18"
   ]
  },
  {
   "cell_type": "code",
   "execution_count": 79,
   "id": "de3bf647",
   "metadata": {},
   "outputs": [
    {
     "name": "stdout",
     "output_type": "stream",
     "text": [
      "<filter object at 0x0000020EFF8B34C0>\n"
     ]
    }
   ],
   "source": [
    "# Use filter and age_check function to filter only the people whose age is over 18\n",
    "age_over = filter(age_check, people_age)\n",
    "\n",
    "print(age_over)"
   ]
  },
  {
   "cell_type": "code",
   "execution_count": 80,
   "id": "b7539648",
   "metadata": {},
   "outputs": [
    {
     "name": "stdout",
     "output_type": "stream",
     "text": [
      "[('Mark', 22), ('Barnie', 25), ('Duck', 19), ('Alex', 18), ('Susan', 24), ('Delan', 23)]\n"
     ]
    }
   ],
   "source": [
    "# You can convert filter object into list using list()\n",
    "age_over = list(age_over)\n",
    "\n",
    "print(age_over)"
   ]
  },
  {
   "cell_type": "markdown",
   "id": "d7a53551",
   "metadata": {},
   "source": [
    "---\n",
    "<span style = \"color: blue; font-size: 30px\">**lambda function**</span>\n",
    "<br></br>\n",
    "**A function that written in one line using lambda key word accept any number of argument but must have only 1 expression**"
   ]
  },
  {
   "cell_type": "code",
   "execution_count": 81,
   "id": "00fdfa1d",
   "metadata": {},
   "outputs": [
    {
     "data": {
      "text/plain": [
       "55.3896"
      ]
     },
     "execution_count": 81,
     "metadata": {},
     "output_type": "execute_result"
    }
   ],
   "source": [
    "# Use lambda function to find area of circle\n",
    "cir_rad_lamb = lambda x: 3.14 * (x ** 2)\n",
    "\n",
    "# Find area of circle radius 4.2\n",
    "cir_rad_lamb(4.2)"
   ]
  },
  {
   "cell_type": "code",
   "execution_count": 82,
   "id": "e4a2f6a5",
   "metadata": {},
   "outputs": [
    {
     "data": {
      "text/plain": [
       "'Adult'"
      ]
     },
     "execution_count": 82,
     "metadata": {},
     "output_type": "execute_result"
    }
   ],
   "source": [
    "# Age below 18 is consider young above 40 is consider old between 18-40 is consider adult\n",
    "\n",
    "# Use lambda function to check age which category they are in\n",
    "age_category = lambda x: \"Young\" if x < 18 else (\"Old\" if x > 40 else \"Adult\")\n",
    "\n",
    "# Categorise the age\n",
    "age_category(27)"
   ]
  }
 ],
 "metadata": {
  "kernelspec": {
   "display_name": "Python 3 (ipykernel)",
   "language": "python",
   "name": "python3"
  },
  "language_info": {
   "codemirror_mode": {
    "name": "ipython",
    "version": 3
   },
   "file_extension": ".py",
   "mimetype": "text/x-python",
   "name": "python",
   "nbconvert_exporter": "python",
   "pygments_lexer": "ipython3",
   "version": "3.11.5"
  }
 },
 "nbformat": 4,
 "nbformat_minor": 5
}
